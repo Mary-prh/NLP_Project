{
  "nbformat": 4,
  "nbformat_minor": 0,
  "metadata": {
    "colab": {
      "name": "SkimLit.ipynb",
      "provenance": [],
      "toc_visible": true,
      "collapsed_sections": [],
      "authorship_tag": "ABX9TyPDL1oSH4B1uR5/SHXA8cz0",
      "include_colab_link": true
    },
    "kernelspec": {
      "name": "python3",
      "display_name": "Python 3"
    },
    "language_info": {
      "name": "python"
    },
    "accelerator": "GPU",
    "gpuClass": "standard"
  },
  "cells": [
    {
      "cell_type": "markdown",
      "metadata": {
        "id": "view-in-github",
        "colab_type": "text"
      },
      "source": [
        "<a href=\"https://colab.research.google.com/github/Mary-prh/NLP_Project/blob/main/SkimLit.ipynb\" target=\"_parent\"><img src=\"https://colab.research.google.com/assets/colab-badge.svg\" alt=\"Open In Colab\"/></a>"
      ]
    },
    {
      "cell_type": "markdown",
      "source": [
        "Replicating the deep learning model behind the 2017 paper PubMed 200k RCT: a Dataset for Sequenctial Sentence Classification in Medical Abstracts.\n",
        "\n",
        "When it was released, the paper presented a new dataset called PubMed 200k RCT which consists of ~200,000 labelled Randomized Controlled Trial (RCT) abstracts.\n",
        "\n",
        "The goal of the dataset was to explore the ability for NLP models to classify sentences which appear in sequential order.\n",
        "\n",
        "https://arxiv.org/pdf/1710.06071.pdf "
      ],
      "metadata": {
        "id": "OSGKu6rCuDdQ"
      }
    },
    {
      "cell_type": "markdown",
      "source": [
        "# **Getting the data**"
      ],
      "metadata": {
        "id": "OYUR4ZBkusVw"
      }
    },
    {
      "cell_type": "code",
      "execution_count": 1,
      "metadata": {
        "id": "SUWAoIAeNC2b",
        "colab": {
          "base_uri": "https://localhost:8080/"
        },
        "outputId": "e5c9056c-1113-422f-ed5e-fb8b546e2167"
      },
      "outputs": [
        {
          "output_type": "stream",
          "name": "stdout",
          "text": [
            "Cloning into 'pubmed-rct'...\n",
            "remote: Enumerating objects: 33, done.\u001b[K\n",
            "remote: Counting objects: 100% (8/8), done.\u001b[K\n",
            "remote: Compressing objects: 100% (3/3), done.\u001b[K\n",
            "remote: Total 33 (delta 5), reused 5 (delta 5), pack-reused 25\u001b[K\n",
            "Unpacking objects: 100% (33/33), done.\n",
            "Checking out files: 100% (13/13), done.\n",
            "PubMed_200k_RCT\n",
            "PubMed_200k_RCT_numbers_replaced_with_at_sign\n",
            "PubMed_20k_RCT\n",
            "PubMed_20k_RCT_numbers_replaced_with_at_sign\n",
            "README.md\n"
          ]
        }
      ],
      "source": [
        "!git clone https://github.com/Franck-Dernoncourt/pubmed-rct.git\n",
        "!ls pubmed-rct"
      ]
    },
    {
      "cell_type": "code",
      "source": [
        "# Check what files are in the PubMed_20K dataset \n",
        "!ls pubmed-rct/PubMed_20k_RCT_numbers_replaced_with_at_sign"
      ],
      "metadata": {
        "colab": {
          "base_uri": "https://localhost:8080/"
        },
        "id": "VRd_fK00vmbJ",
        "outputId": "4aa77bc8-0f72-4845-a6c2-9169e92f1e81"
      },
      "execution_count": 2,
      "outputs": [
        {
          "output_type": "stream",
          "name": "stdout",
          "text": [
            "dev.txt  test.txt  train.txt\n"
          ]
        }
      ]
    },
    {
      "cell_type": "code",
      "source": [
        "data_dir = \"pubmed-rct/PubMed_20k_RCT_numbers_replaced_with_at_sign/\"\n",
        "import os\n",
        "filenames = [data_dir + filename for filename in os.listdir(data_dir)]\n",
        "filenames"
      ],
      "metadata": {
        "colab": {
          "base_uri": "https://localhost:8080/"
        },
        "id": "yySeVcoFwSvQ",
        "outputId": "82fc601a-5a49-4acc-c1a3-dea7bc34690a"
      },
      "execution_count": 3,
      "outputs": [
        {
          "output_type": "execute_result",
          "data": {
            "text/plain": [
              "['pubmed-rct/PubMed_20k_RCT_numbers_replaced_with_at_sign/test.txt',\n",
              " 'pubmed-rct/PubMed_20k_RCT_numbers_replaced_with_at_sign/train.txt',\n",
              " 'pubmed-rct/PubMed_20k_RCT_numbers_replaced_with_at_sign/dev.txt']"
            ]
          },
          "metadata": {},
          "execution_count": 3
        }
      ]
    },
    {
      "cell_type": "markdown",
      "source": [
        "# **Data Exploratory and Pre-processing**"
      ],
      "metadata": {
        "id": "287sXHFSwsLo"
      }
    },
    {
      "cell_type": "markdown",
      "source": [
        "## **function to read the lines of a document**"
      ],
      "metadata": {
        "id": "gGbfWtcw6vrO"
      }
    },
    {
      "cell_type": "code",
      "source": [
        "# Create function to read the lines of a document\n",
        "def read_lines(filename):\n",
        "  \"\"\"\n",
        "  Reads filename (a text file) and returns the lines of text as a list.\n",
        "  \n",
        "  Args:\n",
        "      filename: a string containing the target filepath to read.\n",
        "  \n",
        "  Returns:\n",
        "      A list of strings with one string per line from the target filename.\n",
        "      For example:\n",
        "      [\"this is the first line of filename\",\n",
        "       \"this is the second line of filename\",\n",
        "       \"...\"]\n",
        "  \"\"\"\n",
        "  with open(filename, \"r\") as f:\n",
        "    return f.readlines()"
      ],
      "metadata": {
        "id": "wkkB1recwxRu"
      },
      "execution_count": 4,
      "outputs": []
    },
    {
      "cell_type": "code",
      "source": [
        "train_lines = read_lines(data_dir + \"train.txt\")\n",
        "train_lines[:20]"
      ],
      "metadata": {
        "id": "aNtemr_hyUmL",
        "colab": {
          "base_uri": "https://localhost:8080/"
        },
        "outputId": "cfe10fa3-d343-4e37-c902-adac36f98659"
      },
      "execution_count": 5,
      "outputs": [
        {
          "output_type": "execute_result",
          "data": {
            "text/plain": [
              "['###24293578\\n',\n",
              " 'OBJECTIVE\\tTo investigate the efficacy of @ weeks of daily low-dose oral prednisolone in improving pain , mobility , and systemic low-grade inflammation in the short term and whether the effect would be sustained at @ weeks in older adults with moderate to severe knee osteoarthritis ( OA ) .\\n',\n",
              " 'METHODS\\tA total of @ patients with primary knee OA were randomized @:@ ; @ received @ mg/day of prednisolone and @ received placebo for @ weeks .\\n',\n",
              " 'METHODS\\tOutcome measures included pain reduction and improvement in function scores and systemic inflammation markers .\\n',\n",
              " 'METHODS\\tPain was assessed using the visual analog pain scale ( @-@ mm ) .\\n',\n",
              " 'METHODS\\tSecondary outcome measures included the Western Ontario and McMaster Universities Osteoarthritis Index scores , patient global assessment ( PGA ) of the severity of knee OA , and @-min walk distance ( @MWD ) .\\n',\n",
              " 'METHODS\\tSerum levels of interleukin @ ( IL-@ ) , IL-@ , tumor necrosis factor ( TNF ) - , and high-sensitivity C-reactive protein ( hsCRP ) were measured .\\n',\n",
              " 'RESULTS\\tThere was a clinically relevant reduction in the intervention group compared to the placebo group for knee pain , physical function , PGA , and @MWD at @ weeks .\\n',\n",
              " 'RESULTS\\tThe mean difference between treatment arms ( @ % CI ) was @ ( @-@ @ ) , p < @ ; @ ( @-@ @ ) , p < @ ; @ ( @-@ @ ) , p < @ ; and @ ( @-@ @ ) , p < @ , respectively .\\n',\n",
              " 'RESULTS\\tFurther , there was a clinically relevant reduction in the serum levels of IL-@ , IL-@ , TNF - , and hsCRP at @ weeks in the intervention group when compared to the placebo group .\\n',\n",
              " 'RESULTS\\tThese differences remained significant at @ weeks .\\n',\n",
              " 'RESULTS\\tThe Outcome Measures in Rheumatology Clinical Trials-Osteoarthritis Research Society International responder rate was @ % in the intervention group and @ % in the placebo group ( p < @ ) .\\n',\n",
              " 'CONCLUSIONS\\tLow-dose oral prednisolone had both a short-term and a longer sustained effect resulting in less knee pain , better physical function , and attenuation of systemic inflammation in older patients with knee OA ( ClinicalTrials.gov identifier NCT@ ) .\\n',\n",
              " '\\n',\n",
              " '###24854809\\n',\n",
              " 'BACKGROUND\\tEmotional eating is associated with overeating and the development of obesity .\\n',\n",
              " 'BACKGROUND\\tYet , empirical evidence for individual ( trait ) differences in emotional eating and cognitive mechanisms that contribute to eating during sad mood remain equivocal .\\n',\n",
              " 'OBJECTIVE\\tThe aim of this study was to test if attention bias for food moderates the effect of self-reported emotional eating during sad mood ( vs neutral mood ) on actual food intake .\\n',\n",
              " 'OBJECTIVE\\tIt was expected that emotional eating is predictive of elevated attention for food and higher food intake after an experimentally induced sad mood and that attentional maintenance on food predicts food intake during a sad versus a neutral mood .\\n',\n",
              " 'METHODS\\tParticipants ( N = @ ) were randomly assigned to one of the two experimental mood induction conditions ( sad/neutral ) .\\n']"
            ]
          },
          "metadata": {},
          "execution_count": 5
        }
      ]
    },
    {
      "cell_type": "markdown",
      "source": [
        "## **Function to split the lines**\n",
        "\n",
        "\n",
        "---\n",
        "`\"line_number\"` - the position of the line in the abstract (e.g. 3).\n",
        "\n",
        "`\"target\"` - the role of the line in the abstract (e.g. OBJECTIVE).\n",
        "\n",
        "`\"text\"` - the text of the line in the abstract.\n",
        "\n",
        "`\"total_lines\"` - the total lines in an abstract sample (e.g. 14).\n"
      ],
      "metadata": {
        "id": "UkolvEJo61hu"
      }
    },
    {
      "cell_type": "code",
      "source": [
        "def preprocess_text(filename):\n",
        "  Input_lines = read_lines(filename)\n",
        "  abstract_line = \"\"\n",
        "  abstract_sample =[]\n",
        "\n",
        "  for lines in Input_lines:\n",
        "    if lines.startswith(\"###\"):\n",
        "      abstract_id = lines\n",
        "      abstract_line = \"\"\n",
        "    elif lines.isspace(): # line is a new line\n",
        "      abstract_line_split = abstract_line.splitlines()\n",
        "      for line_number , line_info in enumerate(abstract_line_split):\n",
        "        line_data = {}\n",
        "        target_text_split = line_info.split(\"\\t\")\n",
        "        line_data[\"Target\"] = target_text_split[0]\n",
        "        line_data[\"Text\"]= target_text_split[1].lower()\n",
        "        line_data[\"line_number\"] = line_number\n",
        "        line_data[\"Total_line_number\"]= len(abstract_line_split)-1\n",
        "        abstract_sample.append(line_data)\n",
        "    else:\n",
        "      abstract_line += lines\n",
        "  return abstract_sample\n",
        "  "
      ],
      "metadata": {
        "id": "mT9e3uym7Lne"
      },
      "execution_count": 6,
      "outputs": []
    },
    {
      "cell_type": "markdown",
      "source": [
        "## **Turning data into dataframe**"
      ],
      "metadata": {
        "id": "2QFxECzWtZ3x"
      }
    },
    {
      "cell_type": "code",
      "source": [
        "test_samples = preprocess_text(filename= data_dir + \"test.txt\")\n",
        "train_samples = preprocess_text(filename= data_dir + \"train.txt\")\n",
        "validation_samples = preprocess_text(filename= data_dir + \"dev.txt\")"
      ],
      "metadata": {
        "id": "n7XDlpxMtZET"
      },
      "execution_count": 7,
      "outputs": []
    },
    {
      "cell_type": "code",
      "source": [
        "train_samples[:14]"
      ],
      "metadata": {
        "id": "nFeg8dZMwYXc",
        "colab": {
          "base_uri": "https://localhost:8080/"
        },
        "outputId": "6b249480-017f-4acd-c8de-2d42aef65063"
      },
      "execution_count": 8,
      "outputs": [
        {
          "output_type": "execute_result",
          "data": {
            "text/plain": [
              "[{'Target': 'OBJECTIVE',\n",
              "  'Text': 'to investigate the efficacy of @ weeks of daily low-dose oral prednisolone in improving pain , mobility , and systemic low-grade inflammation in the short term and whether the effect would be sustained at @ weeks in older adults with moderate to severe knee osteoarthritis ( oa ) .',\n",
              "  'Total_line_number': 11,\n",
              "  'line_number': 0},\n",
              " {'Target': 'METHODS',\n",
              "  'Text': 'a total of @ patients with primary knee oa were randomized @:@ ; @ received @ mg/day of prednisolone and @ received placebo for @ weeks .',\n",
              "  'Total_line_number': 11,\n",
              "  'line_number': 1},\n",
              " {'Target': 'METHODS',\n",
              "  'Text': 'outcome measures included pain reduction and improvement in function scores and systemic inflammation markers .',\n",
              "  'Total_line_number': 11,\n",
              "  'line_number': 2},\n",
              " {'Target': 'METHODS',\n",
              "  'Text': 'pain was assessed using the visual analog pain scale ( @-@ mm ) .',\n",
              "  'Total_line_number': 11,\n",
              "  'line_number': 3},\n",
              " {'Target': 'METHODS',\n",
              "  'Text': 'secondary outcome measures included the western ontario and mcmaster universities osteoarthritis index scores , patient global assessment ( pga ) of the severity of knee oa , and @-min walk distance ( @mwd ) .',\n",
              "  'Total_line_number': 11,\n",
              "  'line_number': 4},\n",
              " {'Target': 'METHODS',\n",
              "  'Text': 'serum levels of interleukin @ ( il-@ ) , il-@ , tumor necrosis factor ( tnf ) - , and high-sensitivity c-reactive protein ( hscrp ) were measured .',\n",
              "  'Total_line_number': 11,\n",
              "  'line_number': 5},\n",
              " {'Target': 'RESULTS',\n",
              "  'Text': 'there was a clinically relevant reduction in the intervention group compared to the placebo group for knee pain , physical function , pga , and @mwd at @ weeks .',\n",
              "  'Total_line_number': 11,\n",
              "  'line_number': 6},\n",
              " {'Target': 'RESULTS',\n",
              "  'Text': 'the mean difference between treatment arms ( @ % ci ) was @ ( @-@ @ ) , p < @ ; @ ( @-@ @ ) , p < @ ; @ ( @-@ @ ) , p < @ ; and @ ( @-@ @ ) , p < @ , respectively .',\n",
              "  'Total_line_number': 11,\n",
              "  'line_number': 7},\n",
              " {'Target': 'RESULTS',\n",
              "  'Text': 'further , there was a clinically relevant reduction in the serum levels of il-@ , il-@ , tnf - , and hscrp at @ weeks in the intervention group when compared to the placebo group .',\n",
              "  'Total_line_number': 11,\n",
              "  'line_number': 8},\n",
              " {'Target': 'RESULTS',\n",
              "  'Text': 'these differences remained significant at @ weeks .',\n",
              "  'Total_line_number': 11,\n",
              "  'line_number': 9},\n",
              " {'Target': 'RESULTS',\n",
              "  'Text': 'the outcome measures in rheumatology clinical trials-osteoarthritis research society international responder rate was @ % in the intervention group and @ % in the placebo group ( p < @ ) .',\n",
              "  'Total_line_number': 11,\n",
              "  'line_number': 10},\n",
              " {'Target': 'CONCLUSIONS',\n",
              "  'Text': 'low-dose oral prednisolone had both a short-term and a longer sustained effect resulting in less knee pain , better physical function , and attenuation of systemic inflammation in older patients with knee oa ( clinicaltrials.gov identifier nct@ ) .',\n",
              "  'Total_line_number': 11,\n",
              "  'line_number': 11},\n",
              " {'Target': 'BACKGROUND',\n",
              "  'Text': 'emotional eating is associated with overeating and the development of obesity .',\n",
              "  'Total_line_number': 10,\n",
              "  'line_number': 0},\n",
              " {'Target': 'BACKGROUND',\n",
              "  'Text': 'yet , empirical evidence for individual ( trait ) differences in emotional eating and cognitive mechanisms that contribute to eating during sad mood remain equivocal .',\n",
              "  'Total_line_number': 10,\n",
              "  'line_number': 1}]"
            ]
          },
          "metadata": {},
          "execution_count": 8
        }
      ]
    },
    {
      "cell_type": "code",
      "source": [
        "import pandas as pd\n",
        "train_df = pd.DataFrame(train_samples)\n",
        "validation_df =pd.DataFrame(validation_samples)\n",
        "test_df = pd.DataFrame(test_samples)"
      ],
      "metadata": {
        "id": "vYVytK6Lt8hi"
      },
      "execution_count": 9,
      "outputs": []
    },
    {
      "cell_type": "code",
      "source": [
        "test_df.head(15)"
      ],
      "metadata": {
        "id": "SOZrSbA9wvUS",
        "colab": {
          "base_uri": "https://localhost:8080/",
          "height": 520
        },
        "outputId": "1b776324-44ab-4cfc-c2d5-d7af207f0ad8"
      },
      "execution_count": 10,
      "outputs": [
        {
          "output_type": "execute_result",
          "data": {
            "text/plain": [
              "         Target                                               Text  \\\n",
              "0    BACKGROUND  this study analyzed liver function abnormaliti...   \n",
              "1       RESULTS  a post hoc analysis was conducted with the use...   \n",
              "2       RESULTS  liver function tests ( lfts ) were measured at...   \n",
              "3       RESULTS  survival analyses were used to assess the asso...   \n",
              "4       RESULTS  the percentage of patients with abnormal lfts ...   \n",
              "5       RESULTS  when mean hemodynamic profiles were compared i...   \n",
              "6       RESULTS  multivariable analyses revealed that patients ...   \n",
              "7   CONCLUSIONS  abnormal lfts are common in the adhf populatio...   \n",
              "8   CONCLUSIONS  elevated meld-xi scores are associated with po...   \n",
              "9    BACKGROUND  minimally invasive endovascular aneurysm repai...   \n",
              "10   BACKGROUND  the aim of this study was to analyse the cost-...   \n",
              "11      METHODS  resource use was determined from the amsterdam...   \n",
              "12      METHODS  the analysis was performed from a provider per...   \n",
              "13      METHODS  all costs were calculated as if all patients h...   \n",
              "14      RESULTS            a total of @ patients were randomized .   \n",
              "\n",
              "    line_number  Total_line_number  \n",
              "0             0                  8  \n",
              "1             1                  8  \n",
              "2             2                  8  \n",
              "3             3                  8  \n",
              "4             4                  8  \n",
              "5             5                  8  \n",
              "6             6                  8  \n",
              "7             7                  8  \n",
              "8             8                  8  \n",
              "9             0                 12  \n",
              "10            1                 12  \n",
              "11            2                 12  \n",
              "12            3                 12  \n",
              "13            4                 12  \n",
              "14            5                 12  "
            ],
            "text/html": [
              "\n",
              "  <div id=\"df-9468ac57-b0b1-4541-b3fb-422c0e9839c6\">\n",
              "    <div class=\"colab-df-container\">\n",
              "      <div>\n",
              "<style scoped>\n",
              "    .dataframe tbody tr th:only-of-type {\n",
              "        vertical-align: middle;\n",
              "    }\n",
              "\n",
              "    .dataframe tbody tr th {\n",
              "        vertical-align: top;\n",
              "    }\n",
              "\n",
              "    .dataframe thead th {\n",
              "        text-align: right;\n",
              "    }\n",
              "</style>\n",
              "<table border=\"1\" class=\"dataframe\">\n",
              "  <thead>\n",
              "    <tr style=\"text-align: right;\">\n",
              "      <th></th>\n",
              "      <th>Target</th>\n",
              "      <th>Text</th>\n",
              "      <th>line_number</th>\n",
              "      <th>Total_line_number</th>\n",
              "    </tr>\n",
              "  </thead>\n",
              "  <tbody>\n",
              "    <tr>\n",
              "      <th>0</th>\n",
              "      <td>BACKGROUND</td>\n",
              "      <td>this study analyzed liver function abnormaliti...</td>\n",
              "      <td>0</td>\n",
              "      <td>8</td>\n",
              "    </tr>\n",
              "    <tr>\n",
              "      <th>1</th>\n",
              "      <td>RESULTS</td>\n",
              "      <td>a post hoc analysis was conducted with the use...</td>\n",
              "      <td>1</td>\n",
              "      <td>8</td>\n",
              "    </tr>\n",
              "    <tr>\n",
              "      <th>2</th>\n",
              "      <td>RESULTS</td>\n",
              "      <td>liver function tests ( lfts ) were measured at...</td>\n",
              "      <td>2</td>\n",
              "      <td>8</td>\n",
              "    </tr>\n",
              "    <tr>\n",
              "      <th>3</th>\n",
              "      <td>RESULTS</td>\n",
              "      <td>survival analyses were used to assess the asso...</td>\n",
              "      <td>3</td>\n",
              "      <td>8</td>\n",
              "    </tr>\n",
              "    <tr>\n",
              "      <th>4</th>\n",
              "      <td>RESULTS</td>\n",
              "      <td>the percentage of patients with abnormal lfts ...</td>\n",
              "      <td>4</td>\n",
              "      <td>8</td>\n",
              "    </tr>\n",
              "    <tr>\n",
              "      <th>5</th>\n",
              "      <td>RESULTS</td>\n",
              "      <td>when mean hemodynamic profiles were compared i...</td>\n",
              "      <td>5</td>\n",
              "      <td>8</td>\n",
              "    </tr>\n",
              "    <tr>\n",
              "      <th>6</th>\n",
              "      <td>RESULTS</td>\n",
              "      <td>multivariable analyses revealed that patients ...</td>\n",
              "      <td>6</td>\n",
              "      <td>8</td>\n",
              "    </tr>\n",
              "    <tr>\n",
              "      <th>7</th>\n",
              "      <td>CONCLUSIONS</td>\n",
              "      <td>abnormal lfts are common in the adhf populatio...</td>\n",
              "      <td>7</td>\n",
              "      <td>8</td>\n",
              "    </tr>\n",
              "    <tr>\n",
              "      <th>8</th>\n",
              "      <td>CONCLUSIONS</td>\n",
              "      <td>elevated meld-xi scores are associated with po...</td>\n",
              "      <td>8</td>\n",
              "      <td>8</td>\n",
              "    </tr>\n",
              "    <tr>\n",
              "      <th>9</th>\n",
              "      <td>BACKGROUND</td>\n",
              "      <td>minimally invasive endovascular aneurysm repai...</td>\n",
              "      <td>0</td>\n",
              "      <td>12</td>\n",
              "    </tr>\n",
              "    <tr>\n",
              "      <th>10</th>\n",
              "      <td>BACKGROUND</td>\n",
              "      <td>the aim of this study was to analyse the cost-...</td>\n",
              "      <td>1</td>\n",
              "      <td>12</td>\n",
              "    </tr>\n",
              "    <tr>\n",
              "      <th>11</th>\n",
              "      <td>METHODS</td>\n",
              "      <td>resource use was determined from the amsterdam...</td>\n",
              "      <td>2</td>\n",
              "      <td>12</td>\n",
              "    </tr>\n",
              "    <tr>\n",
              "      <th>12</th>\n",
              "      <td>METHODS</td>\n",
              "      <td>the analysis was performed from a provider per...</td>\n",
              "      <td>3</td>\n",
              "      <td>12</td>\n",
              "    </tr>\n",
              "    <tr>\n",
              "      <th>13</th>\n",
              "      <td>METHODS</td>\n",
              "      <td>all costs were calculated as if all patients h...</td>\n",
              "      <td>4</td>\n",
              "      <td>12</td>\n",
              "    </tr>\n",
              "    <tr>\n",
              "      <th>14</th>\n",
              "      <td>RESULTS</td>\n",
              "      <td>a total of @ patients were randomized .</td>\n",
              "      <td>5</td>\n",
              "      <td>12</td>\n",
              "    </tr>\n",
              "  </tbody>\n",
              "</table>\n",
              "</div>\n",
              "      <button class=\"colab-df-convert\" onclick=\"convertToInteractive('df-9468ac57-b0b1-4541-b3fb-422c0e9839c6')\"\n",
              "              title=\"Convert this dataframe to an interactive table.\"\n",
              "              style=\"display:none;\">\n",
              "        \n",
              "  <svg xmlns=\"http://www.w3.org/2000/svg\" height=\"24px\"viewBox=\"0 0 24 24\"\n",
              "       width=\"24px\">\n",
              "    <path d=\"M0 0h24v24H0V0z\" fill=\"none\"/>\n",
              "    <path d=\"M18.56 5.44l.94 2.06.94-2.06 2.06-.94-2.06-.94-.94-2.06-.94 2.06-2.06.94zm-11 1L8.5 8.5l.94-2.06 2.06-.94-2.06-.94L8.5 2.5l-.94 2.06-2.06.94zm10 10l.94 2.06.94-2.06 2.06-.94-2.06-.94-.94-2.06-.94 2.06-2.06.94z\"/><path d=\"M17.41 7.96l-1.37-1.37c-.4-.4-.92-.59-1.43-.59-.52 0-1.04.2-1.43.59L10.3 9.45l-7.72 7.72c-.78.78-.78 2.05 0 2.83L4 21.41c.39.39.9.59 1.41.59.51 0 1.02-.2 1.41-.59l7.78-7.78 2.81-2.81c.8-.78.8-2.07 0-2.86zM5.41 20L4 18.59l7.72-7.72 1.47 1.35L5.41 20z\"/>\n",
              "  </svg>\n",
              "      </button>\n",
              "      \n",
              "  <style>\n",
              "    .colab-df-container {\n",
              "      display:flex;\n",
              "      flex-wrap:wrap;\n",
              "      gap: 12px;\n",
              "    }\n",
              "\n",
              "    .colab-df-convert {\n",
              "      background-color: #E8F0FE;\n",
              "      border: none;\n",
              "      border-radius: 50%;\n",
              "      cursor: pointer;\n",
              "      display: none;\n",
              "      fill: #1967D2;\n",
              "      height: 32px;\n",
              "      padding: 0 0 0 0;\n",
              "      width: 32px;\n",
              "    }\n",
              "\n",
              "    .colab-df-convert:hover {\n",
              "      background-color: #E2EBFA;\n",
              "      box-shadow: 0px 1px 2px rgba(60, 64, 67, 0.3), 0px 1px 3px 1px rgba(60, 64, 67, 0.15);\n",
              "      fill: #174EA6;\n",
              "    }\n",
              "\n",
              "    [theme=dark] .colab-df-convert {\n",
              "      background-color: #3B4455;\n",
              "      fill: #D2E3FC;\n",
              "    }\n",
              "\n",
              "    [theme=dark] .colab-df-convert:hover {\n",
              "      background-color: #434B5C;\n",
              "      box-shadow: 0px 1px 3px 1px rgba(0, 0, 0, 0.15);\n",
              "      filter: drop-shadow(0px 1px 2px rgba(0, 0, 0, 0.3));\n",
              "      fill: #FFFFFF;\n",
              "    }\n",
              "  </style>\n",
              "\n",
              "      <script>\n",
              "        const buttonEl =\n",
              "          document.querySelector('#df-9468ac57-b0b1-4541-b3fb-422c0e9839c6 button.colab-df-convert');\n",
              "        buttonEl.style.display =\n",
              "          google.colab.kernel.accessAllowed ? 'block' : 'none';\n",
              "\n",
              "        async function convertToInteractive(key) {\n",
              "          const element = document.querySelector('#df-9468ac57-b0b1-4541-b3fb-422c0e9839c6');\n",
              "          const dataTable =\n",
              "            await google.colab.kernel.invokeFunction('convertToInteractive',\n",
              "                                                     [key], {});\n",
              "          if (!dataTable) return;\n",
              "\n",
              "          const docLinkHtml = 'Like what you see? Visit the ' +\n",
              "            '<a target=\"_blank\" href=https://colab.research.google.com/notebooks/data_table.ipynb>data table notebook</a>'\n",
              "            + ' to learn more about interactive tables.';\n",
              "          element.innerHTML = '';\n",
              "          dataTable['output_type'] = 'display_data';\n",
              "          await google.colab.output.renderOutput(dataTable, element);\n",
              "          const docLink = document.createElement('div');\n",
              "          docLink.innerHTML = docLinkHtml;\n",
              "          element.appendChild(docLink);\n",
              "        }\n",
              "      </script>\n",
              "    </div>\n",
              "  </div>\n",
              "  "
            ]
          },
          "metadata": {},
          "execution_count": 10
        }
      ]
    },
    {
      "cell_type": "code",
      "source": [
        "test_df[\"Target\"].value_counts()"
      ],
      "metadata": {
        "id": "SON397rbzQa9",
        "colab": {
          "base_uri": "https://localhost:8080/"
        },
        "outputId": "a05b56d7-0b09-48bb-849b-007d80ae6492"
      },
      "execution_count": 11,
      "outputs": [
        {
          "output_type": "execute_result",
          "data": {
            "text/plain": [
              "METHODS        9897\n",
              "RESULTS        9713\n",
              "CONCLUSIONS    4571\n",
              "BACKGROUND     3621\n",
              "OBJECTIVE      2333\n",
              "Name: Target, dtype: int64"
            ]
          },
          "metadata": {},
          "execution_count": 11
        }
      ]
    },
    {
      "cell_type": "markdown",
      "source": [
        "## **Explore the dataframe**"
      ],
      "metadata": {
        "id": "6JU8RHhmxtvH"
      }
    },
    {
      "cell_type": "code",
      "source": [
        "import seaborn as sns\n",
        "import matplotlib.pyplot as plt\n",
        "%matplotlib inline\n",
        "\n",
        "plt.figure(figsize=(8,5))\n",
        "sns.histplot(data = train_df, x= \"Target\")"
      ],
      "metadata": {
        "id": "_WvMhFPIxdkA",
        "colab": {
          "base_uri": "https://localhost:8080/",
          "height": 352
        },
        "outputId": "4cf0ddcd-8892-41a3-a9ab-d51e022a9bd5"
      },
      "execution_count": 12,
      "outputs": [
        {
          "output_type": "execute_result",
          "data": {
            "text/plain": [
              "<matplotlib.axes._subplots.AxesSubplot at 0x7f356eeab110>"
            ]
          },
          "metadata": {},
          "execution_count": 12
        },
        {
          "output_type": "display_data",
          "data": {
            "text/plain": [
              "<Figure size 576x360 with 1 Axes>"
            ],
            "image/png": "[encoded data removed]"
          },
          "metadata": {
            "needs_background": "light"
          }
        }
      ]
    },
    {
      "cell_type": "code",
      "source": [
        "mean = train_df[\"Total_line_number\"].mean(axis = 0)"
      ],
      "metadata": {
        "id": "-Y8cvTXx1Jmn"
      },
      "execution_count": 13,
      "outputs": []
    },
    {
      "cell_type": "code",
      "source": [
        "plt.figure(figsize=(8,5))\n",
        "sns.histplot(data = train_df, x= \"Total_line_number\" ,bins=80, color = \"red\")\n",
        "plt.title(\"Mean= {%1.3f}\" %mean)\n",
        "plt.show()"
      ],
      "metadata": {
        "id": "rMW6gfU9ynZe",
        "colab": {
          "base_uri": "https://localhost:8080/",
          "height": 351
        },
        "outputId": "3deb6171-3561-474d-e6f5-a5dea8813092"
      },
      "execution_count": 14,
      "outputs": [
        {
          "output_type": "display_data",
          "data": {
            "text/plain": [
              "<Figure size 576x360 with 1 Axes>"
            ],
            "image/png": "[encoded data removed]"
          },
          "metadata": {
            "needs_background": "light"
          }
        }
      ]
    },
    {
      "cell_type": "markdown",
      "source": [
        "***Convert abstract text lines into lists***"
      ],
      "metadata": {
        "id": "fy0_Bxs1zFKE"
      }
    },
    {
      "cell_type": "code",
      "source": [
        "train_text = train_df[\"Text\"].tolist()\n",
        "test_text = test_df[\"Text\"].tolist()\n",
        "validation_text= validation_df[\"Text\"].tolist()"
      ],
      "metadata": {
        "id": "IsgJPS_GyzLs"
      },
      "execution_count": 15,
      "outputs": []
    },
    {
      "cell_type": "code",
      "source": [
        "len(train_text) , len(test_text) , len(validation_text)"
      ],
      "metadata": {
        "id": "YWibxhxezbTs",
        "colab": {
          "base_uri": "https://localhost:8080/"
        },
        "outputId": "e75cf5c6-3bc8-4695-8b4f-79faad57e05c"
      },
      "execution_count": 16,
      "outputs": [
        {
          "output_type": "execute_result",
          "data": {
            "text/plain": [
              "(180040, 30135, 30212)"
            ]
          },
          "metadata": {},
          "execution_count": 16
        }
      ]
    },
    {
      "cell_type": "markdown",
      "source": [
        "## **Make numeric labels**"
      ],
      "metadata": {
        "id": "mAo-Nq0z2NCh"
      }
    },
    {
      "cell_type": "markdown",
      "source": [
        "**One-Hot Encoding**"
      ],
      "metadata": {
        "id": "bPDWPJSdcHkh"
      }
    },
    {
      "cell_type": "code",
      "source": [
        "import tensorflow as tf\n",
        "from sklearn.preprocessing import OneHotEncoder\n",
        "\n",
        "encoder_onehot = OneHotEncoder(sparse=False)\n",
        "lables_onehot_train = encoder_onehot.fit_transform(train_df[\"Target\"].to_numpy().reshape(-1, 1))\n",
        "lables_onehot_test = encoder_onehot.transform(test_df[\"Target\"].to_numpy().reshape(-1, 1))\n",
        "lables_onehot_validation = encoder_onehot.transform(validation_df[\"Target\"].to_numpy().reshape(-1, 1))\n",
        "lables_onehot_train"
      ],
      "metadata": {
        "id": "vZ4XBUmqzmej",
        "colab": {
          "base_uri": "https://localhost:8080/"
        },
        "outputId": "b8dcc3bb-43fd-4a24-8b58-323a61199d1e"
      },
      "execution_count": 17,
      "outputs": [
        {
          "output_type": "execute_result",
          "data": {
            "text/plain": [
              "array([[0., 0., 0., 1., 0.],\n",
              "       [0., 0., 1., 0., 0.],\n",
              "       [0., 0., 1., 0., 0.],\n",
              "       ...,\n",
              "       [0., 0., 0., 0., 1.],\n",
              "       [0., 1., 0., 0., 0.],\n",
              "       [0., 1., 0., 0., 0.]])"
            ]
          },
          "metadata": {},
          "execution_count": 17
        }
      ]
    },
    {
      "cell_type": "code",
      "source": [
        "# lables_onehot_train = tf.constant(lables_onehot_train)\n",
        "# lables_onehot_train"
      ],
      "metadata": {
        "id": "Wz9cf5BJbY5r"
      },
      "execution_count": 18,
      "outputs": []
    },
    {
      "cell_type": "markdown",
      "source": [
        "**Label Encoding**\n",
        "\n",
        "---\n",
        "\n",
        "**This is useful to get back from the labels to the `actual class names`**"
      ],
      "metadata": {
        "id": "FCP8fBQicMXg"
      }
    },
    {
      "cell_type": "code",
      "source": [
        "from sklearn.preprocessing import LabelEncoder\n",
        "encoder_labels = LabelEncoder()\n",
        "labels_train = encoder_labels.fit_transform(train_df[\"Target\"].to_numpy())\n",
        "labels_test = encoder_labels.transform(test_df[\"Target\"].to_numpy())\n",
        "labels_validation = encoder_labels.transform(validation_df[\"Target\"].to_numpy())\n"
      ],
      "metadata": {
        "id": "hATltaP_bjQC"
      },
      "execution_count": 19,
      "outputs": []
    },
    {
      "cell_type": "code",
      "source": [
        "labels_train"
      ],
      "metadata": {
        "id": "v5rKtulwdpvI",
        "colab": {
          "base_uri": "https://localhost:8080/"
        },
        "outputId": "979a039e-ee36-44e4-e99d-78d35030b3c3"
      },
      "execution_count": 20,
      "outputs": [
        {
          "output_type": "execute_result",
          "data": {
            "text/plain": [
              "array([3, 2, 2, ..., 4, 1, 1])"
            ]
          },
          "metadata": {},
          "execution_count": 20
        }
      ]
    },
    {
      "cell_type": "markdown",
      "source": [
        "**class names**"
      ],
      "metadata": {
        "id": "XOdXo8vS1BTi"
      }
    },
    {
      "cell_type": "code",
      "source": [
        "class_names = encoder_labels.classes_\n",
        "len(class_names) , class_names"
      ],
      "metadata": {
        "id": "mPEq3n-9d-b3",
        "colab": {
          "base_uri": "https://localhost:8080/"
        },
        "outputId": "8a680332-8d58-4446-cabb-434ea21058f5"
      },
      "execution_count": 21,
      "outputs": [
        {
          "output_type": "execute_result",
          "data": {
            "text/plain": [
              "(5, array(['BACKGROUND', 'CONCLUSIONS', 'METHODS', 'OBJECTIVE', 'RESULTS'],\n",
              "       dtype=object))"
            ]
          },
          "metadata": {},
          "execution_count": 21
        }
      ]
    },
    {
      "cell_type": "markdown",
      "source": [
        "# **Evaluation function**"
      ],
      "metadata": {
        "id": "Q3OvZx_QlCJD"
      }
    },
    {
      "cell_type": "code",
      "source": [
        "from sklearn.metrics import confusion_matrix , accuracy_score, classification_report\n",
        "def calculate_results(y_test, y_pred):\n",
        "  report = classification_report(y_test ,y_pred , output_dict=True)[\"weighted avg\"]\n",
        "  accuracy = accuracy_score(y_test ,y_pred )\n",
        "  model_results = {\"accuracy\": accuracy,\n",
        "                  \"precision\": report['precision'],\n",
        "                  \"recall\": report['recall'],\n",
        "                  \"f1\": report['f1-score']}\n",
        "  print(\"Confusion Matrix Result: \\n\" ,confusion_matrix(y_test ,y_pred))\n",
        "  print(\"\\n\")\n",
        "  return model_results"
      ],
      "metadata": {
        "id": "FudXgA7JkaLe"
      },
      "execution_count": 22,
      "outputs": []
    },
    {
      "cell_type": "markdown",
      "source": [
        "# **Model_0: Naive Bayes**"
      ],
      "metadata": {
        "id": "-7sFRS5me_iU"
      }
    },
    {
      "cell_type": "code",
      "source": [
        "from sklearn.naive_bayes import MultinomialNB\n",
        "from sklearn.feature_extraction.text import TfidfVectorizer \n",
        "from sklearn.pipeline import Pipeline"
      ],
      "metadata": {
        "id": "oS3t6rKXfEsz"
      },
      "execution_count": 23,
      "outputs": []
    },
    {
      "cell_type": "code",
      "source": [
        "tf_idf = TfidfVectorizer()\n",
        "NB_Model = MultinomialNB()\n",
        "model_0= Pipeline([(\"TFIDF\", tf_idf),(\"NB\", NB_Model)])"
      ],
      "metadata": {
        "id": "XDp1ED2cfiLR"
      },
      "execution_count": 24,
      "outputs": []
    },
    {
      "cell_type": "code",
      "source": [
        "model_0.fit(train_text, labels_train)"
      ],
      "metadata": {
        "id": "csdPuM8tgJF_",
        "colab": {
          "base_uri": "https://localhost:8080/"
        },
        "outputId": "d9e315e5-596d-4c4b-a6bc-8b37a5ce70c6"
      },
      "execution_count": 25,
      "outputs": [
        {
          "output_type": "execute_result",
          "data": {
            "text/plain": [
              "Pipeline(steps=[('TFIDF', TfidfVectorizer()), ('NB', MultinomialNB())])"
            ]
          },
          "metadata": {},
          "execution_count": 25
        }
      ]
    },
    {
      "cell_type": "code",
      "source": [
        "preds_0 = model_0.predict(validation_text)"
      ],
      "metadata": {
        "id": "f3u2jJasgggm"
      },
      "execution_count": 26,
      "outputs": []
    },
    {
      "cell_type": "code",
      "source": [
        "len(preds_0) , len(labels_validation)"
      ],
      "metadata": {
        "id": "45ppEQk0g1rX",
        "colab": {
          "base_uri": "https://localhost:8080/"
        },
        "outputId": "e9b43ba8-c18f-4b98-d4a4-04216862b76c"
      },
      "execution_count": 27,
      "outputs": [
        {
          "output_type": "execute_result",
          "data": {
            "text/plain": [
              "(30212, 30212)"
            ]
          },
          "metadata": {},
          "execution_count": 27
        }
      ]
    },
    {
      "cell_type": "code",
      "source": [
        "# for i in pred:\n",
        "#   cls = class_names[i]\n",
        "#   print(cls)"
      ],
      "metadata": {
        "id": "FW3Q4-OqhWR1"
      },
      "execution_count": 28,
      "outputs": []
    },
    {
      "cell_type": "code",
      "source": [
        "preds_0[0]"
      ],
      "metadata": {
        "id": "9UamRtjii2kw",
        "colab": {
          "base_uri": "https://localhost:8080/"
        },
        "outputId": "6e5f1161-8691-4850-dcf6-92afb9179ff2"
      },
      "execution_count": 29,
      "outputs": [
        {
          "output_type": "execute_result",
          "data": {
            "text/plain": [
              "4"
            ]
          },
          "metadata": {},
          "execution_count": 29
        }
      ]
    },
    {
      "cell_type": "code",
      "source": [
        "from sklearn.metrics import confusion_matrix , accuracy_score, classification_report\n",
        "\n",
        "result_0 = calculate_results(labels_validation, preds_0)\n",
        "result_0"
      ],
      "metadata": {
        "id": "4ByqsBVji8yY",
        "colab": {
          "base_uri": "https://localhost:8080/"
        },
        "outputId": "5810a2dc-dd81-4dbe-cc90-d8fc74f09799"
      },
      "execution_count": 30,
      "outputs": [
        {
          "output_type": "stream",
          "name": "stdout",
          "text": [
            "Confusion Matrix Result: \n",
            " [[1683  794  694   97  181]\n",
            " [ 244 2687  432    5 1214]\n",
            " [ 116   75 8670    7 1096]\n",
            " [ 505  422  978  325  146]\n",
            " [  20  181 1196    1 8443]]\n",
            "\n",
            "\n"
          ]
        },
        {
          "output_type": "execute_result",
          "data": {
            "text/plain": [
              "{'accuracy': 0.7218323844829869,\n",
              " 'f1': 0.6989250353450294,\n",
              " 'precision': 0.7186466952323352,\n",
              " 'recall': 0.7218323844829869}"
            ]
          },
          "metadata": {},
          "execution_count": 30
        }
      ]
    },
    {
      "cell_type": "markdown",
      "source": [
        "# **Vectorization and Embedding Layers**"
      ],
      "metadata": {
        "id": "xI1hANtAw-AP"
      }
    },
    {
      "cell_type": "markdown",
      "source": [
        "## **Tokenizer**"
      ],
      "metadata": {
        "id": "vncShVupxDEv"
      }
    },
    {
      "cell_type": "code",
      "source": [
        "from tensorflow.keras.layers.experimental.preprocessing import TextVectorization"
      ],
      "metadata": {
        "id": "SObBqnODxFZX"
      },
      "execution_count": 31,
      "outputs": []
    },
    {
      "cell_type": "markdown",
      "source": [
        "**All the batches need to have the same dimension**"
      ],
      "metadata": {
        "id": "Fb8g4Rdt3kWa"
      }
    },
    {
      "cell_type": "code",
      "source": [
        "from statistics import mean\n",
        "L = []\n",
        "for i in train_text:\n",
        "  L.append(len(i.split()))\n",
        "# Mean = sum(L)/len(L)\n",
        "ave_length = mean(L)\n",
        "\n",
        "ave_length "
      ],
      "metadata": {
        "id": "gxt0wXODyok0",
        "colab": {
          "base_uri": "https://localhost:8080/"
        },
        "outputId": "34d27b78-7aa9-4947-b991-92cf20855f0c"
      },
      "execution_count": 32,
      "outputs": [
        {
          "output_type": "execute_result",
          "data": {
            "text/plain": [
              "26.338269273494777"
            ]
          },
          "metadata": {},
          "execution_count": 32
        }
      ]
    },
    {
      "cell_type": "code",
      "source": [
        "L[:2] , len(L)"
      ],
      "metadata": {
        "id": "BOjHRcV21kK3",
        "colab": {
          "base_uri": "https://localhost:8080/"
        },
        "outputId": "0fbac680-bc91-4603-8020-d41f173e3535"
      },
      "execution_count": 33,
      "outputs": [
        {
          "output_type": "execute_result",
          "data": {
            "text/plain": [
              "([49, 27], 180040)"
            ]
          },
          "metadata": {},
          "execution_count": 33
        }
      ]
    },
    {
      "cell_type": "code",
      "source": [
        "sns.histplot(L)\n",
        "plt.title(\"Distribution of Sentences lengths in the Training Set \\n mean = {%1.3f}\" %ave_length)\n",
        "plt.show()"
      ],
      "metadata": {
        "id": "xlrt8TAI3DxQ",
        "colab": {
          "base_uri": "https://localhost:8080/",
          "height": 296
        },
        "outputId": "e45370c3-72e1-49b9-9b4c-a8381818fce2"
      },
      "execution_count": 34,
      "outputs": [
        {
          "output_type": "display_data",
          "data": {
            "text/plain": [
              "<Figure size 432x288 with 1 Axes>"
            ],
            "image/png": "[encoded data removed]"
          },
          "metadata": {
            "needs_background": "light"
          }
        }
      ]
    },
    {
      "cell_type": "markdown",
      "source": [
        "*How long of a sentence covers 95% of the lengths?\n",
        "output_seq_len = int(np.percentile(sent_lens, 95))*"
      ],
      "metadata": {
        "id": "CQ0ii0EF4D_F"
      }
    },
    {
      "cell_type": "code",
      "source": [
        "import numpy as np\n",
        "output_length = int(np.percentile(L, 95))\n",
        "output_length"
      ],
      "metadata": {
        "id": "Ysb9MbjSxr4G",
        "colab": {
          "base_uri": "https://localhost:8080/"
        },
        "outputId": "712e8fa3-5849-4c3f-ccc2-51d08045f48e"
      },
      "execution_count": 35,
      "outputs": [
        {
          "output_type": "execute_result",
          "data": {
            "text/plain": [
              "55"
            ]
          },
          "metadata": {},
          "execution_count": 35
        }
      ]
    },
    {
      "cell_type": "code",
      "source": [
        "max(L) # so 55 is covering 95% of the text length which is a good estimation for the data"
      ],
      "metadata": {
        "id": "8-1qnmFz4qaN",
        "colab": {
          "base_uri": "https://localhost:8080/"
        },
        "outputId": "c5a287ff-c2d0-4b4e-8cdb-c8aa9de894b1"
      },
      "execution_count": 36,
      "outputs": [
        {
          "output_type": "execute_result",
          "data": {
            "text/plain": [
              "296"
            ]
          },
          "metadata": {},
          "execution_count": 36
        }
      ]
    },
    {
      "cell_type": "markdown",
      "source": [
        "**max number of words to have in our vocabulary**"
      ],
      "metadata": {
        "id": "6N-LGdxJq-2Q"
      }
    },
    {
      "cell_type": "code",
      "source": [
        "max_token_length = 68000 # this is coming from the paper: https://arxiv.org/pdf/1710.06071.pdf"
      ],
      "metadata": {
        "id": "2kjlei5N5v7i"
      },
      "execution_count": 37,
      "outputs": []
    },
    {
      "cell_type": "code",
      "source": [
        "tokenizer = TextVectorization(max_tokens=max_token_length,\n",
        "                              output_sequence_length=output_length)"
      ],
      "metadata": {
        "id": "x6ShJ_QZ55pC"
      },
      "execution_count": 38,
      "outputs": []
    },
    {
      "cell_type": "code",
      "source": [
        "# Adapt text vectorizer to training sentences (it should be fitted to training data only)\n",
        "tokenizer.adapt(train_text)"
      ],
      "metadata": {
        "id": "HEzV6N4N8f7O"
      },
      "execution_count": 39,
      "outputs": []
    },
    {
      "cell_type": "code",
      "source": [
        "# test it out\n",
        "import random\n",
        "\n",
        "test_sentence = random.choices(train_text)\n",
        "sentence_token = tokenizer(test_sentence)\n",
        "print(test_sentence)\n",
        "print(f\"\\nLength of text: {len(test_sentence[0].split())}\")\n",
        "print(sentence_token)"
      ],
      "metadata": {
        "id": "NTPUSgLF83vc",
        "colab": {
          "base_uri": "https://localhost:8080/"
        },
        "outputId": "38574e9a-be7d-467a-c2f1-f161964f33c1"
      },
      "execution_count": 40,
      "outputs": [
        {
          "output_type": "stream",
          "name": "stdout",
          "text": [
            "['a new gel formulation containing loteprednol etabonate ( le ) , a c-@ ester corticosteroid used to treat ocular inflammation , was developed to provide increased retention on the ocular surface for improved drug delivery to intraocular tissues .']\n",
            "\n",
            "Length of text: 39\n",
            "tf.Tensor(\n",
            "[[    8   319  1543  1501   866 14794 14996  5065     8   243  9714  2139\n",
            "     98     6   733  1667   636    10   481     6   414    96  1096    18\n",
            "      2  1667  1384    11   170   300   479     6  1944  3254     0     0\n",
            "      0     0     0     0     0     0     0     0     0     0     0     0\n",
            "      0     0     0     0     0     0     0]], shape=(1, 55), dtype=int64)\n"
          ]
        }
      ]
    },
    {
      "cell_type": "code",
      "source": [
        "words = tokenizer.get_vocabulary()\n",
        "\n",
        "len(words)"
      ],
      "metadata": {
        "id": "uTsdSJEs_7d1",
        "colab": {
          "base_uri": "https://localhost:8080/"
        },
        "outputId": "bec60ade-3aef-47d4-8353-8e3682df1509"
      },
      "execution_count": 41,
      "outputs": [
        {
          "output_type": "execute_result",
          "data": {
            "text/plain": [
              "64841"
            ]
          },
          "metadata": {},
          "execution_count": 41
        }
      ]
    },
    {
      "cell_type": "markdown",
      "source": [
        "## **Embedding**"
      ],
      "metadata": {
        "id": "i42zA7YH4sjP"
      }
    },
    {
      "cell_type": "code",
      "source": [
        "from tensorflow.keras.layers import Embedding"
      ],
      "metadata": {
        "id": "iO_vNDukDc86"
      },
      "execution_count": 42,
      "outputs": []
    },
    {
      "cell_type": "code",
      "source": [
        "Embedding_Layer = Embedding(input_dim=  len(words), output_dim= 128, \n",
        "                            input_length = output_length, mask_zero=True) \n",
        "# Mask_zero=True helps to mask zeros and have more efficient computing"
      ],
      "metadata": {
        "id": "_RbM_TQmDjNb"
      },
      "execution_count": 43,
      "outputs": []
    },
    {
      "cell_type": "code",
      "source": [
        "test_embed = Embedding_Layer(sentence_token)\n",
        "test_embed "
      ],
      "metadata": {
        "id": "bsXwHJzoEWtS",
        "colab": {
          "base_uri": "https://localhost:8080/"
        },
        "outputId": "b59b11d3-740b-4cb0-d932-e522921f4b8b"
      },
      "execution_count": 44,
      "outputs": [
        {
          "output_type": "execute_result",
          "data": {
            "text/plain": [
              "<tf.Tensor: shape=(1, 55, 128), dtype=float32, numpy=\n",
              "array([[[ 0.00226339, -0.02438213, -0.00532881, ..., -0.02443404,\n",
              "         -0.02219814, -0.01857519],\n",
              "        [-0.0453538 ,  0.04444889,  0.03200991, ...,  0.01698044,\n",
              "         -0.02448863,  0.02196156],\n",
              "        [ 0.02907595,  0.03642658, -0.04324131, ..., -0.01689442,\n",
              "         -0.03530573,  0.02896971],\n",
              "        ...,\n",
              "        [-0.01703305, -0.01525018,  0.03818074, ..., -0.04439925,\n",
              "         -0.03968687,  0.01920528],\n",
              "        [-0.01703305, -0.01525018,  0.03818074, ..., -0.04439925,\n",
              "         -0.03968687,  0.01920528],\n",
              "        [-0.01703305, -0.01525018,  0.03818074, ..., -0.04439925,\n",
              "         -0.03968687,  0.01920528]]], dtype=float32)>"
            ]
          },
          "metadata": {},
          "execution_count": 44
        }
      ]
    },
    {
      "cell_type": "markdown",
      "source": [
        "# **Create datasets (to let tensorflow run as fast as possible)**\n",
        "\n",
        "\n",
        "---\n",
        "\n",
        "*The main steps we'll want to use with our data is to turn it into a `PrefetchDataset` of `batches`.\n",
        "\n",
        "Doing so we'll ensure TensorFlow loads our data onto the GPU as fast as possible, in turn leading to faster training time.\n",
        "\n",
        "To create a batched PrefetchDataset we can use the methods `batch()` and `prefetch()`, the parameter `tf.data.AUTOTUNE` will also allow TensorFlow to determine the optimal amount of compute to use to prepare datasets.*"
      ],
      "metadata": {
        "id": "FXreRgqFGxCo"
      }
    },
    {
      "cell_type": "markdown",
      "source": [
        "**Turn our data into TensorFlow Datasets**"
      ],
      "metadata": {
        "id": "Xgw2sdY-Jo_U"
      }
    },
    {
      "cell_type": "code",
      "source": [
        "np.shape(train_text) , np.shape(test_text)"
      ],
      "metadata": {
        "colab": {
          "base_uri": "https://localhost:8080/"
        },
        "id": "PEV12WeTLCPj",
        "outputId": "41f9e5c6-8d15-4a1b-ea43-ecce1928a98d"
      },
      "execution_count": 45,
      "outputs": [
        {
          "output_type": "execute_result",
          "data": {
            "text/plain": [
              "((180040,), (30135,))"
            ]
          },
          "metadata": {},
          "execution_count": 45
        }
      ]
    },
    {
      "cell_type": "code",
      "source": [
        "train_data = tf.data.Dataset.from_tensor_slices((train_text, lables_onehot_train))\n",
        "test_data = tf.data.Dataset.from_tensor_slices((test_text,lables_onehot_test))\n",
        "validation_data = tf.data.Dataset.from_tensor_slices((validation_text, lables_onehot_validation))\n",
        "train_data"
      ],
      "metadata": {
        "colab": {
          "base_uri": "https://localhost:8080/"
        },
        "id": "z6lLFp5RD8Gb",
        "outputId": "d4a67ebd-4273-4394-a16c-cd295c869a34"
      },
      "execution_count": 48,
      "outputs": [
        {
          "output_type": "execute_result",
          "data": {
            "text/plain": [
              "<TensorSliceDataset element_spec=(TensorSpec(shape=(), dtype=tf.string, name=None), TensorSpec(shape=(5,), dtype=tf.float64, name=None))>"
            ]
          },
          "metadata": {},
          "execution_count": 48
        }
      ]
    },
    {
      "cell_type": "code",
      "source": [
        "train_data = train_data.batch(32).prefetch(buffer_size= tf.data.AUTOTUNE)\n",
        "test_data= test_data.batch(32).prefetch(buffer_size=tf.data.AUTOTUNE)\n",
        "validation_data = validation_data.batch(32).prefetch(buffer_size=tf.data.AUTOTUNE)"
      ],
      "metadata": {
        "id": "P5AOHoPN76DT"
      },
      "execution_count": 49,
      "outputs": []
    },
    {
      "cell_type": "code",
      "source": [
        "train_data , validation_data , test_data"
      ],
      "metadata": {
        "colab": {
          "base_uri": "https://localhost:8080/"
        },
        "id": "mujz_KsL9I3_",
        "outputId": "52f8de4f-42a6-48b8-8668-789945905539"
      },
      "execution_count": 50,
      "outputs": [
        {
          "output_type": "execute_result",
          "data": {
            "text/plain": [
              "(<PrefetchDataset element_spec=(TensorSpec(shape=(None,), dtype=tf.string, name=None), TensorSpec(shape=(None, 5), dtype=tf.float64, name=None))>,\n",
              " <PrefetchDataset element_spec=(TensorSpec(shape=(None,), dtype=tf.string, name=None), TensorSpec(shape=(None, 5), dtype=tf.float64, name=None))>,\n",
              " <PrefetchDataset element_spec=(TensorSpec(shape=(None,), dtype=tf.string, name=None), TensorSpec(shape=(None, 5), dtype=tf.float64, name=None))>)"
            ]
          },
          "metadata": {},
          "execution_count": 50
        }
      ]
    },
    {
      "cell_type": "markdown",
      "source": [
        "# **Model_1: CONV 1D (with token embeddings)**"
      ],
      "metadata": {
        "id": "JBTm_VAw-Yf9"
      }
    },
    {
      "cell_type": "code",
      "source": [
        "from tensorflow.keras.layers import Conv1D , GlobalAveragePooling1D , Dense"
      ],
      "metadata": {
        "id": "jyfp42T49BX_"
      },
      "execution_count": 51,
      "outputs": []
    },
    {
      "cell_type": "code",
      "source": [
        "Embedding_layer_1 = Embedding(input_dim= len(words), input_length= output_length,\n",
        "                              output_dim  = 128)\n",
        "\n",
        "Inputs = tf.keras.layers.Input(shape = (1,), dtype='string', name='Input_layer')\n",
        "x = tokenizer(Inputs)\n",
        "x = Embedding_layer_1(x)\n",
        "x = Conv1D(filters = 64 , kernel_size=3, strides = 1, padding = 'same',\n",
        "           activation= 'relu')(x)\n",
        "x = GlobalAveragePooling1D()(x)\n",
        "Outputs = Dense(5,activation='softmax')(x)\n",
        "\n",
        "model_1 = tf.keras.Model(Inputs,Outputs)"
      ],
      "metadata": {
        "id": "s9eaUHCz-g1u"
      },
      "execution_count": 52,
      "outputs": []
    },
    {
      "cell_type": "code",
      "source": [
        "model_1.summary()"
      ],
      "metadata": {
        "colab": {
          "base_uri": "https://localhost:8080/"
        },
        "id": "RXgYUtyb-gZS",
        "outputId": "deaf87ab-3791-4796-c174-a2fae173f029"
      },
      "execution_count": 53,
      "outputs": [
        {
          "output_type": "stream",
          "name": "stdout",
          "text": [
            "Model: \"model\"\n",
            "_________________________________________________________________\n",
            " Layer (type)                Output Shape              Param #   \n",
            "=================================================================\n",
            " Input_layer (InputLayer)    [(None, 1)]               0         \n",
            "                                                                 \n",
            " text_vectorization (TextVec  (None, 55)               0         \n",
            " torization)                                                     \n",
            "                                                                 \n",
            " embedding_1 (Embedding)     (None, 55, 128)           8299648   \n",
            "                                                                 \n",
            " conv1d (Conv1D)             (None, 55, 64)            24640     \n",
            "                                                                 \n",
            " global_average_pooling1d (G  (None, 64)               0         \n",
            " lobalAveragePooling1D)                                          \n",
            "                                                                 \n",
            " dense (Dense)               (None, 5)                 325       \n",
            "                                                                 \n",
            "=================================================================\n",
            "Total params: 8,324,613\n",
            "Trainable params: 8,324,613\n",
            "Non-trainable params: 0\n",
            "_________________________________________________________________\n"
          ]
        }
      ]
    },
    {
      "cell_type": "code",
      "source": [
        "model_1.compile(optimizer=\"Adam\", loss= 'categorical_crossentropy', \n",
        "                metrics=['accuracy'])"
      ],
      "metadata": {
        "id": "EC4tkE1VDorO"
      },
      "execution_count": 54,
      "outputs": []
    },
    {
      "cell_type": "code",
      "source": [
        "len(train_data)  #this is the number of batches in the dataset "
      ],
      "metadata": {
        "colab": {
          "base_uri": "https://localhost:8080/"
        },
        "id": "VvANkLcfRgGn",
        "outputId": "692d11f7-2ec0-44d3-f5d5-1a384cf5580c"
      },
      "execution_count": 55,
      "outputs": [
        {
          "output_type": "execute_result",
          "data": {
            "text/plain": [
              "5627"
            ]
          },
          "metadata": {},
          "execution_count": 55
        }
      ]
    },
    {
      "cell_type": "code",
      "source": [
        "history_1 = model_1.fit(train_data, epochs=5, \n",
        "                        steps_per_epoch= int(0.1*len(train_data)), \n",
        "                        validation_data = validation_data, validation_steps = int(0.1*len(validation_data)))"
      ],
      "metadata": {
        "colab": {
          "base_uri": "https://localhost:8080/"
        },
        "id": "ulqScnkBO5P8",
        "outputId": "59d7aa00-00de-42c8-82ac-b778442b44b0"
      },
      "execution_count": 56,
      "outputs": [
        {
          "output_type": "stream",
          "name": "stdout",
          "text": [
            "Epoch 1/5\n",
            "562/562 [==============================] - 19s 9ms/step - loss: 0.9454 - accuracy: 0.6315 - val_loss: 0.6915 - val_accuracy: 0.7417\n",
            "Epoch 2/5\n",
            "562/562 [==============================] - 5s 9ms/step - loss: 0.6622 - accuracy: 0.7561 - val_loss: 0.6378 - val_accuracy: 0.7696\n",
            "Epoch 3/5\n",
            "562/562 [==============================] - 5s 9ms/step - loss: 0.6252 - accuracy: 0.7706 - val_loss: 0.6051 - val_accuracy: 0.7846\n",
            "Epoch 4/5\n",
            "562/562 [==============================] - 5s 9ms/step - loss: 0.5975 - accuracy: 0.7859 - val_loss: 0.5837 - val_accuracy: 0.7842\n",
            "Epoch 5/5\n",
            "562/562 [==============================] - 5s 9ms/step - loss: 0.5971 - accuracy: 0.7884 - val_loss: 0.5666 - val_accuracy: 0.7985\n"
          ]
        }
      ]
    },
    {
      "cell_type": "markdown",
      "source": [
        "**Evaluation**\n"
      ],
      "metadata": {
        "id": "LtFUxq1GTKU5"
      }
    },
    {
      "cell_type": "code",
      "source": [
        "model_1.evaluate(validation_data)"
      ],
      "metadata": {
        "colab": {
          "base_uri": "https://localhost:8080/"
        },
        "id": "jSlkiYtER0_E",
        "outputId": "6135adb1-a3a6-4e3c-f337-e99c3eb5fcb5"
      },
      "execution_count": 57,
      "outputs": [
        {
          "output_type": "stream",
          "name": "stdout",
          "text": [
            "945/945 [==============================] - 3s 3ms/step - loss: 0.5668 - accuracy: 0.7992\n"
          ]
        },
        {
          "output_type": "execute_result",
          "data": {
            "text/plain": [
              "[0.5668171048164368, 0.799152672290802]"
            ]
          },
          "metadata": {},
          "execution_count": 57
        }
      ]
    },
    {
      "cell_type": "code",
      "source": [
        "probs_1  = model_1.predict(validation_data)"
      ],
      "metadata": {
        "id": "_fGDYoJRR8VX"
      },
      "execution_count": 58,
      "outputs": []
    },
    {
      "cell_type": "code",
      "source": [
        "probs_1"
      ],
      "metadata": {
        "colab": {
          "base_uri": "https://localhost:8080/"
        },
        "id": "Y6sk6ZS6SHs8",
        "outputId": "a0029b0b-ccb4-41d0-d3d9-a9bcac441eef"
      },
      "execution_count": 59,
      "outputs": [
        {
          "output_type": "execute_result",
          "data": {
            "text/plain": [
              "array([[5.1396757e-01, 2.0847999e-01, 5.1174458e-02, 1.7409460e-01,\n",
              "        5.2283417e-02],\n",
              "       [3.9627233e-01, 4.4762686e-01, 1.9041669e-02, 1.1468969e-01,\n",
              "        2.2369523e-02],\n",
              "       [1.9587773e-01, 9.1413697e-03, 1.5970655e-03, 7.9334998e-01,\n",
              "        3.3873814e-05],\n",
              "       ...,\n",
              "       [2.4631587e-05, 8.2620006e-04, 6.2746308e-03, 1.5113496e-05,\n",
              "        9.9285948e-01],\n",
              "       [8.4255509e-02, 3.0601448e-01, 1.9662254e-01, 7.2697908e-02,\n",
              "        3.4040958e-01],\n",
              "       [1.8471324e-01, 7.0200777e-01, 4.6252031e-02, 2.2655213e-02,\n",
              "        4.4371720e-02]], dtype=float32)"
            ]
          },
          "metadata": {},
          "execution_count": 59
        }
      ]
    },
    {
      "cell_type": "code",
      "source": [
        "preds_1 = tf.argmax(probs_1 , axis=1) #Returns the index with the largest value across axes of a tensor.\n",
        "preds_1[:5]"
      ],
      "metadata": {
        "colab": {
          "base_uri": "https://localhost:8080/"
        },
        "id": "iQVkNwS6SNLz",
        "outputId": "60becbb1-e930-41c2-adc0-8d1dd13e454e"
      },
      "execution_count": 60,
      "outputs": [
        {
          "output_type": "execute_result",
          "data": {
            "text/plain": [
              "<tf.Tensor: shape=(5,), dtype=int64, numpy=array([0, 1, 3, 2, 2])>"
            ]
          },
          "metadata": {},
          "execution_count": 60
        }
      ]
    },
    {
      "cell_type": "code",
      "source": [
        "result_1 = calculate_results(labels_validation, preds_1)\n",
        "result_1"
      ],
      "metadata": {
        "colab": {
          "base_uri": "https://localhost:8080/"
        },
        "id": "8ldy2dqnTOt6",
        "outputId": "d8bfc32d-5ce1-4856-fb5d-3b600ffd9685"
      },
      "execution_count": 61,
      "outputs": [
        {
          "output_type": "stream",
          "name": "stdout",
          "text": [
            "Confusion Matrix Result: \n",
            " [[2270  512  290  341   36]\n",
            " [ 485 3272  196   39  590]\n",
            " [ 166  108 9124   62  504]\n",
            " [ 780  250  203 1121   22]\n",
            " [  37  373 1070    4 8357]]\n",
            "\n",
            "\n"
          ]
        },
        {
          "output_type": "execute_result",
          "data": {
            "text/plain": [
              "{'accuracy': 0.7991526545743414,\n",
              " 'f1': 0.7959747904469305,\n",
              " 'precision': 0.7982625748898726,\n",
              " 'recall': 0.7991526545743414}"
            ]
          },
          "metadata": {},
          "execution_count": 61
        }
      ]
    },
    {
      "cell_type": "markdown",
      "source": [
        "# **Model_2: Transfer Learning**"
      ],
      "metadata": {
        "id": "JzR2W1QHXFh_"
      }
    },
    {
      "cell_type": "code",
      "source": [
        "import tensorflow_hub as hub"
      ],
      "metadata": {
        "id": "ynyZFVHAW5lI"
      },
      "execution_count": 62,
      "outputs": []
    },
    {
      "cell_type": "markdown",
      "source": [
        "**The main paper is using GloVe Embeddings which is pretty old**\n",
        "https://nlp.stanford.edu/projects/glove/ "
      ],
      "metadata": {
        "id": "EwyaM7uxczz9"
      }
    },
    {
      "cell_type": "code",
      "source": [
        "Embedding_layer_2 = hub.KerasLayer(\"https://tfhub.dev/google/universal-sentence-encoder/4\", \n",
        "                                  input_shape = [], #input is some sort of strings\n",
        "                                  dtype=\"string\",\n",
        "                                  trainable=False)"
      ],
      "metadata": {
        "id": "NomZvaiuXSdw"
      },
      "execution_count": 63,
      "outputs": []
    },
    {
      "cell_type": "code",
      "source": [
        "from tensorflow.keras.models import Sequential\n",
        "from tensorflow.keras.layers import Dense "
      ],
      "metadata": {
        "id": "dt8oG3qDXlBf"
      },
      "execution_count": 64,
      "outputs": []
    },
    {
      "cell_type": "code",
      "source": [
        "model_2 = Sequential()\n",
        "model_2.add(Embedding_layer_2)  # take in sentences and then encode them into an embedding\n",
        "model_2.add(Dense(128 , activation='relu'))\n",
        "model_2.add(Dense(5, activation='softmax'))"
      ],
      "metadata": {
        "id": "juGGuqETaZTw"
      },
      "execution_count": 65,
      "outputs": []
    },
    {
      "cell_type": "code",
      "source": [
        "model_2.summary()"
      ],
      "metadata": {
        "colab": {
          "base_uri": "https://localhost:8080/"
        },
        "id": "tSxuwmjxhMER",
        "outputId": "8ee638c6-6cba-4475-c5db-704f8df4cafd"
      },
      "execution_count": 66,
      "outputs": [
        {
          "output_type": "stream",
          "name": "stdout",
          "text": [
            "Model: \"sequential\"\n",
            "_________________________________________________________________\n",
            " Layer (type)                Output Shape              Param #   \n",
            "=================================================================\n",
            " keras_layer (KerasLayer)    (None, 512)               256797824 \n",
            "                                                                 \n",
            " dense_1 (Dense)             (None, 128)               65664     \n",
            "                                                                 \n",
            " dense_2 (Dense)             (None, 5)                 645       \n",
            "                                                                 \n",
            "=================================================================\n",
            "Total params: 256,864,133\n",
            "Trainable params: 66,309\n",
            "Non-trainable params: 256,797,824\n",
            "_________________________________________________________________\n"
          ]
        }
      ]
    },
    {
      "cell_type": "code",
      "source": [
        "model_2.compile(optimizer=\"Adam\", loss= 'categorical_crossentropy', \n",
        "                metrics=['accuracy'])"
      ],
      "metadata": {
        "id": "HDujYmwybSN3"
      },
      "execution_count": 67,
      "outputs": []
    },
    {
      "cell_type": "code",
      "source": [
        "history_2 = model_2.fit(train_data, steps_per_epoch= int(0.1*len(train_data)),\n",
        "                        validation_data = validation_data, validation_steps = int(0.1*len(validation_data)), \n",
        "                        epochs = 5)"
      ],
      "metadata": {
        "colab": {
          "base_uri": "https://localhost:8080/"
        },
        "id": "iwrZ5eySbZSG",
        "outputId": "f5bd3e32-9e61-430d-8a26-62d2f4620173"
      },
      "execution_count": 68,
      "outputs": [
        {
          "output_type": "stream",
          "name": "stdout",
          "text": [
            "Epoch 1/5\n",
            "562/562 [==============================] - 11s 14ms/step - loss: 0.9202 - accuracy: 0.6465 - val_loss: 0.7956 - val_accuracy: 0.6872\n",
            "Epoch 2/5\n",
            "562/562 [==============================] - 8s 15ms/step - loss: 0.7666 - accuracy: 0.7026 - val_loss: 0.7508 - val_accuracy: 0.7078\n",
            "Epoch 3/5\n",
            "562/562 [==============================] - 7s 13ms/step - loss: 0.7493 - accuracy: 0.7145 - val_loss: 0.7338 - val_accuracy: 0.7168\n",
            "Epoch 4/5\n",
            "562/562 [==============================] - 7s 13ms/step - loss: 0.7162 - accuracy: 0.7266 - val_loss: 0.7071 - val_accuracy: 0.7297\n",
            "Epoch 5/5\n",
            "562/562 [==============================] - 7s 13ms/step - loss: 0.7223 - accuracy: 0.7246 - val_loss: 0.6873 - val_accuracy: 0.7350\n"
          ]
        }
      ]
    },
    {
      "cell_type": "markdown",
      "source": [
        "*it turns out this model needs more epochs to reach the performace of model_1*"
      ],
      "metadata": {
        "id": "XqivaUTuhsT_"
      }
    },
    {
      "cell_type": "code",
      "source": [
        "model_2.evaluate(validation_data)"
      ],
      "metadata": {
        "colab": {
          "base_uri": "https://localhost:8080/"
        },
        "id": "Dh6tiqQHbwsO",
        "outputId": "9b89147c-8b17-4a62-8913-015f50b2a93d"
      },
      "execution_count": 69,
      "outputs": [
        {
          "output_type": "stream",
          "name": "stdout",
          "text": [
            "945/945 [==============================] - 11s 11ms/step - loss: 0.6954 - accuracy: 0.7360\n"
          ]
        },
        {
          "output_type": "execute_result",
          "data": {
            "text/plain": [
              "[0.6953534483909607, 0.7360320687294006]"
            ]
          },
          "metadata": {},
          "execution_count": 69
        }
      ]
    },
    {
      "cell_type": "code",
      "source": [
        "probs_2  = model_2.predict(validation_data)"
      ],
      "metadata": {
        "id": "k0_h4xFYiZ2G"
      },
      "execution_count": 70,
      "outputs": []
    },
    {
      "cell_type": "code",
      "source": [
        "probs_2[:5]"
      ],
      "metadata": {
        "colab": {
          "base_uri": "https://localhost:8080/"
        },
        "id": "Zq-dccibi3uX",
        "outputId": "1fa35e7d-bddb-4aed-f721-0df91d6ce2db"
      },
      "execution_count": 71,
      "outputs": [
        {
          "output_type": "execute_result",
          "data": {
            "text/plain": [
              "array([[0.6702864 , 0.21108517, 0.00248274, 0.10752551, 0.00862018],\n",
              "       [0.4481097 , 0.4419181 , 0.00783341, 0.09945026, 0.00268852],\n",
              "       [0.35936782, 0.09618143, 0.04886042, 0.4422382 , 0.0533522 ],\n",
              "       [0.00818866, 0.01635653, 0.920691  , 0.00393899, 0.05082488],\n",
              "       [0.01091138, 0.1197038 , 0.5111285 , 0.00410859, 0.35414776]],\n",
              "      dtype=float32)"
            ]
          },
          "metadata": {},
          "execution_count": 71
        }
      ]
    },
    {
      "cell_type": "code",
      "source": [
        "preds_2 = tf.argmax(probs_2, axis =1)"
      ],
      "metadata": {
        "id": "IdHVxXHIipwl"
      },
      "execution_count": 72,
      "outputs": []
    },
    {
      "cell_type": "code",
      "source": [
        "preds_2[:5]"
      ],
      "metadata": {
        "colab": {
          "base_uri": "https://localhost:8080/"
        },
        "id": "7wibwtlIi2e1",
        "outputId": "d7448d87-90e3-43c3-ebe1-95af7c76e9a3"
      },
      "execution_count": 73,
      "outputs": [
        {
          "output_type": "execute_result",
          "data": {
            "text/plain": [
              "<tf.Tensor: shape=(5,), dtype=int64, numpy=array([0, 0, 3, 2, 2])>"
            ]
          },
          "metadata": {},
          "execution_count": 73
        }
      ]
    },
    {
      "cell_type": "code",
      "source": [
        "result_2 = calculate_results(labels_validation, preds_2)\n",
        "result_2"
      ],
      "metadata": {
        "colab": {
          "base_uri": "https://localhost:8080/"
        },
        "id": "Ep0ZwGIkjQTC",
        "outputId": "36963db7-c485-431a-b1fd-6ab661a686b4"
      },
      "execution_count": 74,
      "outputs": [
        {
          "output_type": "stream",
          "name": "stdout",
          "text": [
            "Confusion Matrix Result: \n",
            " [[1873  699  396  351  130]\n",
            " [ 561 2728  441   98  754]\n",
            " [ 184  157 8802   92  729]\n",
            " [ 540  317  359 1069   91]\n",
            " [  65  342 1652   17 7765]]\n",
            "\n",
            "\n"
          ]
        },
        {
          "output_type": "execute_result",
          "data": {
            "text/plain": [
              "{'accuracy': 0.7360320402489077,\n",
              " 'f1': 0.7304463902625062,\n",
              " 'precision': 0.7318163916379863,\n",
              " 'recall': 0.7360320402489077}"
            ]
          },
          "metadata": {},
          "execution_count": 74
        }
      ]
    },
    {
      "cell_type": "code",
      "source": [
        "result_0"
      ],
      "metadata": {
        "colab": {
          "base_uri": "https://localhost:8080/"
        },
        "id": "FuAc7wHOjnAq",
        "outputId": "af0703fe-d4da-4671-f986-1869a791f294"
      },
      "execution_count": 75,
      "outputs": [
        {
          "output_type": "execute_result",
          "data": {
            "text/plain": [
              "{'accuracy': 0.7218323844829869,\n",
              " 'f1': 0.6989250353450294,\n",
              " 'precision': 0.7186466952323352,\n",
              " 'recall': 0.7218323844829869}"
            ]
          },
          "metadata": {},
          "execution_count": 75
        }
      ]
    },
    {
      "cell_type": "markdown",
      "source": [
        "# **Character Tokenizer Function**"
      ],
      "metadata": {
        "id": "odr9CcYqktQY"
      }
    },
    {
      "cell_type": "code",
      "source": [
        "train_text[0]"
      ],
      "metadata": {
        "colab": {
          "base_uri": "https://localhost:8080/",
          "height": 71
        },
        "id": "115bC8qVmk7a",
        "outputId": "dc4d8a0d-f634-4023-8372-211508d23809"
      },
      "execution_count": 76,
      "outputs": [
        {
          "output_type": "execute_result",
          "data": {
            "text/plain": [
              "'to investigate the efficacy of @ weeks of daily low-dose oral prednisolone in improving pain , mobility , and systemic low-grade inflammation in the short term and whether the effect would be sustained at @ weeks in older adults with moderate to severe knee osteoarthritis ( oa ) .'"
            ],
            "application/vnd.google.colaboratory.intrinsic+json": {
              "type": "string"
            }
          },
          "metadata": {},
          "execution_count": 76
        }
      ]
    },
    {
      "cell_type": "code",
      "source": [
        "list(train_text[0])"
      ],
      "metadata": {
        "colab": {
          "base_uri": "https://localhost:8080/"
        },
        "id": "tnv9Zo_imnm6",
        "outputId": "84cf0ee9-c85b-495f-ca53-a5f1bdb50aa7"
      },
      "execution_count": 77,
      "outputs": [
        {
          "output_type": "execute_result",
          "data": {
            "text/plain": [
              "['t',\n",
              " 'o',\n",
              " ' ',\n",
              " 'i',\n",
              " 'n',\n",
              " 'v',\n",
              " 'e',\n",
              " 's',\n",
              " 't',\n",
              " 'i',\n",
              " 'g',\n",
              " 'a',\n",
              " 't',\n",
              " 'e',\n",
              " ' ',\n",
              " 't',\n",
              " 'h',\n",
              " 'e',\n",
              " ' ',\n",
              " 'e',\n",
              " 'f',\n",
              " 'f',\n",
              " 'i',\n",
              " 'c',\n",
              " 'a',\n",
              " 'c',\n",
              " 'y',\n",
              " ' ',\n",
              " 'o',\n",
              " 'f',\n",
              " ' ',\n",
              " '@',\n",
              " ' ',\n",
              " 'w',\n",
              " 'e',\n",
              " 'e',\n",
              " 'k',\n",
              " 's',\n",
              " ' ',\n",
              " 'o',\n",
              " 'f',\n",
              " ' ',\n",
              " 'd',\n",
              " 'a',\n",
              " 'i',\n",
              " 'l',\n",
              " 'y',\n",
              " ' ',\n",
              " 'l',\n",
              " 'o',\n",
              " 'w',\n",
              " '-',\n",
              " 'd',\n",
              " 'o',\n",
              " 's',\n",
              " 'e',\n",
              " ' ',\n",
              " 'o',\n",
              " 'r',\n",
              " 'a',\n",
              " 'l',\n",
              " ' ',\n",
              " 'p',\n",
              " 'r',\n",
              " 'e',\n",
              " 'd',\n",
              " 'n',\n",
              " 'i',\n",
              " 's',\n",
              " 'o',\n",
              " 'l',\n",
              " 'o',\n",
              " 'n',\n",
              " 'e',\n",
              " ' ',\n",
              " 'i',\n",
              " 'n',\n",
              " ' ',\n",
              " 'i',\n",
              " 'm',\n",
              " 'p',\n",
              " 'r',\n",
              " 'o',\n",
              " 'v',\n",
              " 'i',\n",
              " 'n',\n",
              " 'g',\n",
              " ' ',\n",
              " 'p',\n",
              " 'a',\n",
              " 'i',\n",
              " 'n',\n",
              " ' ',\n",
              " ',',\n",
              " ' ',\n",
              " 'm',\n",
              " 'o',\n",
              " 'b',\n",
              " 'i',\n",
              " 'l',\n",
              " 'i',\n",
              " 't',\n",
              " 'y',\n",
              " ' ',\n",
              " ',',\n",
              " ' ',\n",
              " 'a',\n",
              " 'n',\n",
              " 'd',\n",
              " ' ',\n",
              " 's',\n",
              " 'y',\n",
              " 's',\n",
              " 't',\n",
              " 'e',\n",
              " 'm',\n",
              " 'i',\n",
              " 'c',\n",
              " ' ',\n",
              " 'l',\n",
              " 'o',\n",
              " 'w',\n",
              " '-',\n",
              " 'g',\n",
              " 'r',\n",
              " 'a',\n",
              " 'd',\n",
              " 'e',\n",
              " ' ',\n",
              " 'i',\n",
              " 'n',\n",
              " 'f',\n",
              " 'l',\n",
              " 'a',\n",
              " 'm',\n",
              " 'm',\n",
              " 'a',\n",
              " 't',\n",
              " 'i',\n",
              " 'o',\n",
              " 'n',\n",
              " ' ',\n",
              " 'i',\n",
              " 'n',\n",
              " ' ',\n",
              " 't',\n",
              " 'h',\n",
              " 'e',\n",
              " ' ',\n",
              " 's',\n",
              " 'h',\n",
              " 'o',\n",
              " 'r',\n",
              " 't',\n",
              " ' ',\n",
              " 't',\n",
              " 'e',\n",
              " 'r',\n",
              " 'm',\n",
              " ' ',\n",
              " 'a',\n",
              " 'n',\n",
              " 'd',\n",
              " ' ',\n",
              " 'w',\n",
              " 'h',\n",
              " 'e',\n",
              " 't',\n",
              " 'h',\n",
              " 'e',\n",
              " 'r',\n",
              " ' ',\n",
              " 't',\n",
              " 'h',\n",
              " 'e',\n",
              " ' ',\n",
              " 'e',\n",
              " 'f',\n",
              " 'f',\n",
              " 'e',\n",
              " 'c',\n",
              " 't',\n",
              " ' ',\n",
              " 'w',\n",
              " 'o',\n",
              " 'u',\n",
              " 'l',\n",
              " 'd',\n",
              " ' ',\n",
              " 'b',\n",
              " 'e',\n",
              " ' ',\n",
              " 's',\n",
              " 'u',\n",
              " 's',\n",
              " 't',\n",
              " 'a',\n",
              " 'i',\n",
              " 'n',\n",
              " 'e',\n",
              " 'd',\n",
              " ' ',\n",
              " 'a',\n",
              " 't',\n",
              " ' ',\n",
              " '@',\n",
              " ' ',\n",
              " 'w',\n",
              " 'e',\n",
              " 'e',\n",
              " 'k',\n",
              " 's',\n",
              " ' ',\n",
              " 'i',\n",
              " 'n',\n",
              " ' ',\n",
              " 'o',\n",
              " 'l',\n",
              " 'd',\n",
              " 'e',\n",
              " 'r',\n",
              " ' ',\n",
              " 'a',\n",
              " 'd',\n",
              " 'u',\n",
              " 'l',\n",
              " 't',\n",
              " 's',\n",
              " ' ',\n",
              " 'w',\n",
              " 'i',\n",
              " 't',\n",
              " 'h',\n",
              " ' ',\n",
              " 'm',\n",
              " 'o',\n",
              " 'd',\n",
              " 'e',\n",
              " 'r',\n",
              " 'a',\n",
              " 't',\n",
              " 'e',\n",
              " ' ',\n",
              " 't',\n",
              " 'o',\n",
              " ' ',\n",
              " 's',\n",
              " 'e',\n",
              " 'v',\n",
              " 'e',\n",
              " 'r',\n",
              " 'e',\n",
              " ' ',\n",
              " 'k',\n",
              " 'n',\n",
              " 'e',\n",
              " 'e',\n",
              " ' ',\n",
              " 'o',\n",
              " 's',\n",
              " 't',\n",
              " 'e',\n",
              " 'o',\n",
              " 'a',\n",
              " 'r',\n",
              " 't',\n",
              " 'h',\n",
              " 'r',\n",
              " 'i',\n",
              " 't',\n",
              " 'i',\n",
              " 's',\n",
              " ' ',\n",
              " '(',\n",
              " ' ',\n",
              " 'o',\n",
              " 'a',\n",
              " ' ',\n",
              " ')',\n",
              " ' ',\n",
              " '.']"
            ]
          },
          "metadata": {},
          "execution_count": 77
        }
      ]
    },
    {
      "cell_type": "code",
      "source": [
        "\" \".join(list(train_text[0]))"
      ],
      "metadata": {
        "colab": {
          "base_uri": "https://localhost:8080/",
          "height": 107
        },
        "id": "Vrk4V41umQnG",
        "outputId": "c058f1ef-fedf-4fd5-a28b-2577a5097fbb"
      },
      "execution_count": 78,
      "outputs": [
        {
          "output_type": "execute_result",
          "data": {
            "text/plain": [
              "'t o   i n v e s t i g a t e   t h e   e f f i c a c y   o f   @   w e e k s   o f   d a i l y   l o w - d o s e   o r a l   p r e d n i s o l o n e   i n   i m p r o v i n g   p a i n   ,   m o b i l i t y   ,   a n d   s y s t e m i c   l o w - g r a d e   i n f l a m m a t i o n   i n   t h e   s h o r t   t e r m   a n d   w h e t h e r   t h e   e f f e c t   w o u l d   b e   s u s t a i n e d   a t   @   w e e k s   i n   o l d e r   a d u l t s   w i t h   m o d e r a t e   t o   s e v e r e   k n e e   o s t e o a r t h r i t i s   (   o a   )   .'"
            ],
            "application/vnd.google.colaboratory.intrinsic+json": {
              "type": "string"
            }
          },
          "metadata": {},
          "execution_count": 78
        }
      ]
    },
    {
      "cell_type": "code",
      "source": [
        "def Char_splits(text):\n",
        "  return \" \".join(list(text))"
      ],
      "metadata": {
        "id": "L3mgNfO6kDZo"
      },
      "execution_count": 79,
      "outputs": []
    },
    {
      "cell_type": "code",
      "source": [
        "train_char = [Char_splits(i) for i in train_text]\n",
        "test_char = [Char_splits(i) for i in test_text]\n",
        "validation_char = [Char_splits(i) for i in validation_text]"
      ],
      "metadata": {
        "id": "1QL3baYFm0Ph"
      },
      "execution_count": 80,
      "outputs": []
    },
    {
      "cell_type": "code",
      "source": [
        "train_char[0]"
      ],
      "metadata": {
        "colab": {
          "base_uri": "https://localhost:8080/",
          "height": 107
        },
        "id": "tpMJJf4cnaMK",
        "outputId": "d64423a3-97eb-45e9-8a86-f8bf6cfa0c6b"
      },
      "execution_count": 81,
      "outputs": [
        {
          "output_type": "execute_result",
          "data": {
            "text/plain": [
              "'t o   i n v e s t i g a t e   t h e   e f f i c a c y   o f   @   w e e k s   o f   d a i l y   l o w - d o s e   o r a l   p r e d n i s o l o n e   i n   i m p r o v i n g   p a i n   ,   m o b i l i t y   ,   a n d   s y s t e m i c   l o w - g r a d e   i n f l a m m a t i o n   i n   t h e   s h o r t   t e r m   a n d   w h e t h e r   t h e   e f f e c t   w o u l d   b e   s u s t a i n e d   a t   @   w e e k s   i n   o l d e r   a d u l t s   w i t h   m o d e r a t e   t o   s e v e r e   k n e e   o s t e o a r t h r i t i s   (   o a   )   .'"
            ],
            "application/vnd.google.colaboratory.intrinsic+json": {
              "type": "string"
            }
          },
          "metadata": {},
          "execution_count": 81
        }
      ]
    },
    {
      "cell_type": "code",
      "source": [
        "len(train_text[0]) #this is the number of characters in each line"
      ],
      "metadata": {
        "colab": {
          "base_uri": "https://localhost:8080/"
        },
        "id": "vBZ_5jw1n1oP",
        "outputId": "e2f4e8aa-a5f3-4288-aef8-b54da41de608"
      },
      "execution_count": 82,
      "outputs": [
        {
          "output_type": "execute_result",
          "data": {
            "text/plain": [
              "281"
            ]
          },
          "metadata": {},
          "execution_count": 82
        }
      ]
    },
    {
      "cell_type": "code",
      "source": [
        "281*2"
      ],
      "metadata": {
        "colab": {
          "base_uri": "https://localhost:8080/"
        },
        "id": "EF-dKEyCpkwu",
        "outputId": "e1b4af3f-3e83-4df9-aa3a-ce90a93496c4"
      },
      "execution_count": 83,
      "outputs": [
        {
          "output_type": "execute_result",
          "data": {
            "text/plain": [
              "562"
            ]
          },
          "metadata": {},
          "execution_count": 83
        }
      ]
    },
    {
      "cell_type": "code",
      "source": [
        "char_length = [len(word) for word in train_text]\n",
        "char_length[:10] , len(char_length)"
      ],
      "metadata": {
        "colab": {
          "base_uri": "https://localhost:8080/"
        },
        "id": "thZBY0HRnlaj",
        "outputId": "ad2d9db6-4859-447e-db16-bfd69a8e8a91"
      },
      "execution_count": 84,
      "outputs": [
        {
          "output_type": "execute_result",
          "data": {
            "text/plain": [
              "([281, 137, 111, 65, 209, 147, 161, 164, 180, 51], 180040)"
            ]
          },
          "metadata": {},
          "execution_count": 84
        }
      ]
    },
    {
      "cell_type": "code",
      "source": [
        "from statistics import mean\n",
        "\n",
        "ave_char_length = mean(char_length)\n",
        "ave_char_length"
      ],
      "metadata": {
        "colab": {
          "base_uri": "https://localhost:8080/"
        },
        "id": "vfFOCc4ooQ8Q",
        "outputId": "c11cc2fe-4867-4fc5-d7ba-d79cf4bda7c8"
      },
      "execution_count": 85,
      "outputs": [
        {
          "output_type": "execute_result",
          "data": {
            "text/plain": [
              "149.3662574983337"
            ]
          },
          "metadata": {},
          "execution_count": 85
        }
      ]
    },
    {
      "cell_type": "code",
      "source": [
        "interval_95percent = int(np.percentile(char_length, 95))\n",
        "interval_95percent"
      ],
      "metadata": {
        "colab": {
          "base_uri": "https://localhost:8080/"
        },
        "id": "DpRqQJvQp3Pa",
        "outputId": "e4b1a60a-1a13-4b8b-f1a8-2678ae12ba75"
      },
      "execution_count": 86,
      "outputs": [
        {
          "output_type": "execute_result",
          "data": {
            "text/plain": [
              "290"
            ]
          },
          "metadata": {},
          "execution_count": 86
        }
      ]
    },
    {
      "cell_type": "code",
      "source": [
        "sns.histplot(data=char_length , color=\"g\")\n",
        "plt.title(\"Distibution of Char_length\\n mean = {%1.3f}\" %ave_char_length)"
      ],
      "metadata": {
        "colab": {
          "base_uri": "https://localhost:8080/",
          "height": 314
        },
        "id": "2UOYSzd4olyN",
        "outputId": "bc641c55-c870-4565-fda7-a4f9cdc971e2"
      },
      "execution_count": 87,
      "outputs": [
        {
          "output_type": "execute_result",
          "data": {
            "text/plain": [
              "Text(0.5, 1.0, 'Distibution of Char_length\\n mean = {149.366}')"
            ]
          },
          "metadata": {},
          "execution_count": 87
        },
        {
          "output_type": "display_data",
          "data": {
            "text/plain": [
              "<Figure size 432x288 with 1 Axes>"
            ],
            "image/png": "[encoded data removed]"
          },
          "metadata": {
            "needs_background": "light"
          }
        }
      ]
    },
    {
      "cell_type": "markdown",
      "source": [
        "**max number of characters to have in our vocabulary**\n",
        "\n",
        "---\n",
        "\n",
        "*this will include all the alphabet chars and signs and symbols*"
      ],
      "metadata": {
        "id": "NFyfRnWirE37"
      }
    },
    {
      "cell_type": "code",
      "source": [
        "import string\n",
        "alphabet = string.ascii_lowercase + string.digits + string.punctuation\n",
        "alphabet"
      ],
      "metadata": {
        "colab": {
          "base_uri": "https://localhost:8080/",
          "height": 35
        },
        "id": "O0M7KiEVsbUx",
        "outputId": "e5f263a1-9f42-4679-aa84-fdb2d62bc240"
      },
      "execution_count": 88,
      "outputs": [
        {
          "output_type": "execute_result",
          "data": {
            "text/plain": [
              "'abcdefghijklmnopqrstuvwxyz0123456789!\"#$%&\\'()*+,-./:;<=>?@[\\\\]^_`{|}~'"
            ],
            "application/vnd.google.colaboratory.intrinsic+json": {
              "type": "string"
            }
          },
          "metadata": {},
          "execution_count": 88
        }
      ]
    },
    {
      "cell_type": "code",
      "source": [
        "max_vocab_char = len(alphabet) + 2  # num characters in alphabet + space + OOV token\n",
        "max_vocab_char"
      ],
      "metadata": {
        "id": "r_Gwj3VUpxQy",
        "colab": {
          "base_uri": "https://localhost:8080/"
        },
        "outputId": "11301103-57bf-42cf-8bc8-446b1ede374d"
      },
      "execution_count": 89,
      "outputs": [
        {
          "output_type": "execute_result",
          "data": {
            "text/plain": [
              "70"
            ]
          },
          "metadata": {},
          "execution_count": 89
        }
      ]
    },
    {
      "cell_type": "code",
      "source": [
        "Char_vectorizer =TextVectorization(max_tokens= max_vocab_char ,\n",
        "                                   standardize='lower_and_strip_punctuation', # \"None\" makes the vocab longer by inferring puntuations\n",
        "                                    output_sequence_length=interval_95percent)"
      ],
      "metadata": {
        "id": "sMWGks3Cs-09"
      },
      "execution_count": 90,
      "outputs": []
    },
    {
      "cell_type": "code",
      "source": [
        "Char_vectorizer.adapt(train_char)"
      ],
      "metadata": {
        "id": "eCCmxkWwtb6L"
      },
      "execution_count": 91,
      "outputs": []
    },
    {
      "cell_type": "code",
      "source": [
        "char_vocab = Char_vectorizer.get_vocabulary()"
      ],
      "metadata": {
        "id": "UC4bK3fSs96D"
      },
      "execution_count": 92,
      "outputs": []
    },
    {
      "cell_type": "code",
      "source": [
        "print(f\"Number of different characters in character vocab: {len(char_vocab)}\")\n",
        "print(f\"5 most common characters: {char_vocab[:5]}\")\n",
        "print(f\"5 least common characters: {char_vocab[-5:]}\")"
      ],
      "metadata": {
        "colab": {
          "base_uri": "https://localhost:8080/"
        },
        "id": "0-arUlU1uJDi",
        "outputId": "1ba14470-b68b-4894-c423-f1639640755d"
      },
      "execution_count": 93,
      "outputs": [
        {
          "output_type": "stream",
          "name": "stdout",
          "text": [
            "Number of different characters in character vocab: 28\n",
            "5 most common characters: ['', '[UNK]', 'e', 't', 'i']\n",
            "5 least common characters: ['k', 'x', 'z', 'q', 'j']\n"
          ]
        }
      ]
    },
    {
      "cell_type": "markdown",
      "source": [
        "# **Character-level Embedding Layer**"
      ],
      "metadata": {
        "id": "9SyRqK-Jvp_r"
      }
    },
    {
      "cell_type": "code",
      "source": [
        "len(char_vocab) , len(alphabet)"
      ],
      "metadata": {
        "colab": {
          "base_uri": "https://localhost:8080/"
        },
        "id": "mwLci5YewXus",
        "outputId": "9b540b4a-bc03-40b9-acdf-814f1bcd31c4"
      },
      "execution_count": 94,
      "outputs": [
        {
          "output_type": "execute_result",
          "data": {
            "text/plain": [
              "(28, 68)"
            ]
          },
          "metadata": {},
          "execution_count": 94
        }
      ]
    },
    {
      "cell_type": "code",
      "source": [
        "from tensorflow.keras.layers import Embedding\n",
        "\n",
        "Embedding_layer_3 = Embedding(input_dim= max_vocab_char , \n",
        "                              output_dim= 25, # embedding dimension of each character (same as Figure 1 in https://arxiv.org/pdf/1612.05251.pdf)\n",
        "                              )\n"
      ],
      "metadata": {
        "id": "utkY9rP7vvDM"
      },
      "execution_count": 95,
      "outputs": []
    },
    {
      "cell_type": "markdown",
      "source": [
        "*You can see below that the last weights are the same because the sentence had less characters than the input length of 290 and so, they are padded by zero (which end up with the same weights in Embedding Method)*"
      ],
      "metadata": {
        "id": "P5tQTUQcyox_"
      }
    },
    {
      "cell_type": "code",
      "source": [
        "print(f\"Charified text (before vectorization and embedding):\\n{train_char[0]}\\n\")\n",
        "char_embed_example = Embedding_layer_3(Char_vectorizer([train_char[0]]))\n",
        "print(f\"Embedded chars (after vectorization and embedding):\\n{char_embed_example}\\n\")\n",
        "print(f\"Character embedding shape: {char_embed_example.shape}\")"
      ],
      "metadata": {
        "colab": {
          "base_uri": "https://localhost:8080/"
        },
        "id": "S9sJQHK-x_Ki",
        "outputId": "9ea2251a-90a6-47a5-8d15-30f12a522529"
      },
      "execution_count": 96,
      "outputs": [
        {
          "output_type": "stream",
          "name": "stdout",
          "text": [
            "Charified text (before vectorization and embedding):\n",
            "t o   i n v e s t i g a t e   t h e   e f f i c a c y   o f   @   w e e k s   o f   d a i l y   l o w - d o s e   o r a l   p r e d n i s o l o n e   i n   i m p r o v i n g   p a i n   ,   m o b i l i t y   ,   a n d   s y s t e m i c   l o w - g r a d e   i n f l a m m a t i o n   i n   t h e   s h o r t   t e r m   a n d   w h e t h e r   t h e   e f f e c t   w o u l d   b e   s u s t a i n e d   a t   @   w e e k s   i n   o l d e r   a d u l t s   w i t h   m o d e r a t e   t o   s e v e r e   k n e e   o s t e o a r t h r i t i s   (   o a   )   .\n",
            "\n",
            "Embedded chars (after vectorization and embedding):\n",
            "[[[ 0.01862936  0.02420232 -0.00749583 ... -0.01496441 -0.00648283\n",
            "   -0.03500345]\n",
            "  [ 0.01524898  0.01219652  0.00417473 ...  0.02261705  0.00461168\n",
            "    0.02905554]\n",
            "  [-0.01719129 -0.03516756  0.01907369 ...  0.0174122   0.01205716\n",
            "    0.00927241]\n",
            "  ...\n",
            "  [ 0.03048195  0.0070172   0.04620581 ... -0.01049459  0.022221\n",
            "   -0.00420076]\n",
            "  [ 0.03048195  0.0070172   0.04620581 ... -0.01049459  0.022221\n",
            "   -0.00420076]\n",
            "  [ 0.03048195  0.0070172   0.04620581 ... -0.01049459  0.022221\n",
            "   -0.00420076]]]\n",
            "\n",
            "Character embedding shape: (1, 290, 25)\n"
          ]
        }
      ]
    },
    {
      "cell_type": "markdown",
      "source": [
        "# **Model_3: CONV 1D (with character Embedding)**\n",
        "\n",
        "**if `GlobalAveragePooling1D` did not work try `MaxPool1D` as well**\n",
        "\n",
        "**`TextVectorizer` has `standardization` that can be changes to `None` to see what happend**\n",
        "\n",
        "**Number of layers can also be changed**"
      ],
      "metadata": {
        "id": "YRWSkwlCj7Vr"
      }
    },
    {
      "cell_type": "code",
      "source": [
        "from tensorflow.keras.layers import Conv1D , GlobalAveragePooling1D , Dense , Input , MaxPool1D , GlobalMaxPooling1D"
      ],
      "metadata": {
        "id": "wAAQ4xPpz3Qd"
      },
      "execution_count": 97,
      "outputs": []
    },
    {
      "cell_type": "markdown",
      "source": [
        "**if `GlobalAveragePooling1D` did not work try `MaxPool1D` as well**"
      ],
      "metadata": {
        "id": "H0HX163s5-N5"
      }
    },
    {
      "cell_type": "code",
      "source": [
        "Inputs = Input(shape=(1,) , dtype = 'string')\n",
        "x = Char_vectorizer(Inputs)\n",
        "x = Embedding_layer_3(x)\n",
        "x = Conv1D(filters = 64 , kernel_size=5 , strides=1,\n",
        "           padding='same', activation='relu')(x)\n",
        "x = GlobalMaxPooling1D()(x)\n",
        "Outputs = Dense(5 , activation='softmax')(x)\n",
        "\n",
        "model_3 = tf.keras.Model(Inputs , Outputs)"
      ],
      "metadata": {
        "id": "idnjS1lB0FwN"
      },
      "execution_count": 98,
      "outputs": []
    },
    {
      "cell_type": "code",
      "source": [
        "model_3.compile(optimizer=\"Adam\", loss= 'categorical_crossentropy', \n",
        "                metrics=['accuracy'])"
      ],
      "metadata": {
        "id": "mG8CjJ2Y1Rg5"
      },
      "execution_count": 99,
      "outputs": []
    },
    {
      "cell_type": "code",
      "source": [
        "model_3.summary()"
      ],
      "metadata": {
        "colab": {
          "base_uri": "https://localhost:8080/"
        },
        "id": "oCh-fnqP1f5O",
        "outputId": "0fef1e65-16fe-4e8f-ae10-516a2265fcaa"
      },
      "execution_count": 100,
      "outputs": [
        {
          "output_type": "stream",
          "name": "stdout",
          "text": [
            "Model: \"model_1\"\n",
            "_________________________________________________________________\n",
            " Layer (type)                Output Shape              Param #   \n",
            "=================================================================\n",
            " input_1 (InputLayer)        [(None, 1)]               0         \n",
            "                                                                 \n",
            " text_vectorization_1 (TextV  (None, 290)              0         \n",
            " ectorization)                                                   \n",
            "                                                                 \n",
            " embedding_2 (Embedding)     (None, 290, 25)           1750      \n",
            "                                                                 \n",
            " conv1d_1 (Conv1D)           (None, 290, 64)           8064      \n",
            "                                                                 \n",
            " global_max_pooling1d (Globa  (None, 64)               0         \n",
            " lMaxPooling1D)                                                  \n",
            "                                                                 \n",
            " dense_3 (Dense)             (None, 5)                 325       \n",
            "                                                                 \n",
            "=================================================================\n",
            "Total params: 10,139\n",
            "Trainable params: 10,139\n",
            "Non-trainable params: 0\n",
            "_________________________________________________________________\n"
          ]
        }
      ]
    },
    {
      "cell_type": "code",
      "source": [
        "# history_3 = model_3.fit(train_data, epochs=5, \n",
        "                        # steps_per_epoch= int(0.1*len(train_data)), \n",
        "                        # validation_data = validation_data, validation_steps = int(0.1*len(validation_data)))"
      ],
      "metadata": {
        "id": "n_bM11Y51iI3"
      },
      "execution_count": 101,
      "outputs": []
    },
    {
      "cell_type": "markdown",
      "source": [
        "*The reason that this does not work well is that the dataset is not in the correct format. So, we'll create char-level batched `PrefetchedDataset`'s. *"
      ],
      "metadata": {
        "id": "SGcEJu9V25qc"
      }
    },
    {
      "cell_type": "code",
      "source": [
        "train_data_char = tf.data.Dataset.from_tensor_slices((train_char, lables_onehot_train)).batch(32).prefetch(buffer_size = tf.data.AUTOTUNE)\n",
        "test_data_char = tf.data.Dataset.from_tensor_slices((test_char, lables_onehot_test)).batch(32).prefetch(buffer_size=tf.data.AUTOTUNE)\n",
        "validation_data_char = tf.data.Dataset.from_tensor_slices((validation_char, lables_onehot_validation)).batch(32).prefetch(buffer_size=tf.data.AUTOTUNE)"
      ],
      "metadata": {
        "id": "Yg_dUBCE3MWS"
      },
      "execution_count": 102,
      "outputs": []
    },
    {
      "cell_type": "code",
      "source": [
        "train_data_char"
      ],
      "metadata": {
        "colab": {
          "base_uri": "https://localhost:8080/"
        },
        "id": "8H-qvEq53xMs",
        "outputId": "4b43970b-93bc-485d-e440-2455674e46d3"
      },
      "execution_count": 103,
      "outputs": [
        {
          "output_type": "execute_result",
          "data": {
            "text/plain": [
              "<PrefetchDataset element_spec=(TensorSpec(shape=(None,), dtype=tf.string, name=None), TensorSpec(shape=(None, 5), dtype=tf.float64, name=None))>"
            ]
          },
          "metadata": {},
          "execution_count": 103
        }
      ]
    },
    {
      "cell_type": "code",
      "source": [
        "history_3 = model_3.fit(train_data_char, epochs=5, \n",
        "                        steps_per_epoch= int(0.1*len(train_data_char)), \n",
        "                        validation_data = validation_data_char, validation_steps = int(0.1*len(validation_data_char)))"
      ],
      "metadata": {
        "colab": {
          "base_uri": "https://localhost:8080/"
        },
        "id": "H7AlB3Gt4ms9",
        "outputId": "26cf30d6-6a02-44ec-a57b-b94146dea025"
      },
      "execution_count": 104,
      "outputs": [
        {
          "output_type": "stream",
          "name": "stdout",
          "text": [
            "Epoch 1/5\n",
            "562/562 [==============================] - 4s 6ms/step - loss: 1.2498 - accuracy: 0.4991 - val_loss: 1.0180 - val_accuracy: 0.6070\n",
            "Epoch 2/5\n",
            "562/562 [==============================] - 3s 5ms/step - loss: 0.9869 - accuracy: 0.6074 - val_loss: 0.9211 - val_accuracy: 0.6396\n",
            "Epoch 3/5\n",
            "562/562 [==============================] - 3s 5ms/step - loss: 0.9101 - accuracy: 0.6426 - val_loss: 0.8603 - val_accuracy: 0.6682\n",
            "Epoch 4/5\n",
            "562/562 [==============================] - 3s 5ms/step - loss: 0.8618 - accuracy: 0.6655 - val_loss: 0.8296 - val_accuracy: 0.6799\n",
            "Epoch 5/5\n",
            "562/562 [==============================] - 3s 5ms/step - loss: 0.8481 - accuracy: 0.6705 - val_loss: 0.8086 - val_accuracy: 0.6955\n"
          ]
        }
      ]
    },
    {
      "cell_type": "code",
      "source": [
        "probs_3  = model_3.predict(validation_data_char)"
      ],
      "metadata": {
        "id": "MYsbZpbSuv2t"
      },
      "execution_count": 105,
      "outputs": []
    },
    {
      "cell_type": "code",
      "source": [
        "probs_3[0]"
      ],
      "metadata": {
        "colab": {
          "base_uri": "https://localhost:8080/"
        },
        "id": "wlDRjtQDuvWK",
        "outputId": "47dc6dbf-d070-470a-918b-05f3e5b5038d"
      },
      "execution_count": 106,
      "outputs": [
        {
          "output_type": "execute_result",
          "data": {
            "text/plain": [
              "array([0.20026651, 0.51615787, 0.08335698, 0.12611625, 0.07410237],\n",
              "      dtype=float32)"
            ]
          },
          "metadata": {},
          "execution_count": 106
        }
      ]
    },
    {
      "cell_type": "code",
      "source": [
        "preds_3 = tf.argmax(probs_3 , axis = 1)\n",
        "preds_3[0]"
      ],
      "metadata": {
        "colab": {
          "base_uri": "https://localhost:8080/"
        },
        "id": "S4Ts6t2IuvF7",
        "outputId": "fdaee958-fff6-48a4-9bcf-e9639d78fcfd"
      },
      "execution_count": 107,
      "outputs": [
        {
          "output_type": "execute_result",
          "data": {
            "text/plain": [
              "<tf.Tensor: shape=(), dtype=int64, numpy=1>"
            ]
          },
          "metadata": {},
          "execution_count": 107
        }
      ]
    },
    {
      "cell_type": "code",
      "source": [
        "result_3 = calculate_results(labels_validation , preds_3)\n",
        "result_3"
      ],
      "metadata": {
        "colab": {
          "base_uri": "https://localhost:8080/"
        },
        "id": "MPpnHF_ZvS3W",
        "outputId": "d853517e-3695-4b02-f1b3-b8f8637d47a6"
      },
      "execution_count": 108,
      "outputs": [
        {
          "output_type": "stream",
          "name": "stdout",
          "text": [
            "Confusion Matrix Result: \n",
            " [[1266 1054  461  578   90]\n",
            " [ 580 2626  568  224  584]\n",
            " [ 257  292 8717  170  528]\n",
            " [ 405  492  325 1090   64]\n",
            " [ 148  782 1943   55 6913]]\n",
            "\n",
            "\n"
          ]
        },
        {
          "output_type": "execute_result",
          "data": {
            "text/plain": [
              "{'accuracy': 0.6822454653779955,\n",
              " 'f1': 0.6780872972818105,\n",
              " 'precision': 0.6854325610555977,\n",
              " 'recall': 0.6822454653779955}"
            ]
          },
          "metadata": {},
          "execution_count": 108
        }
      ]
    },
    {
      "cell_type": "markdown",
      "source": [
        "# **Combining Character and Token Embeddings**"
      ],
      "metadata": {
        "id": "ow2fPo0xvryw"
      }
    },
    {
      "cell_type": "markdown",
      "source": [
        "According to the paper, Figure 1 ,  hybrid token embedding layer is a combination of token embeddings and character embeddings. In other words, they create a stacked embedding to represent sequences before passing them to the sequence label prediction layer.\n",
        "So, there different steps:\n",
        "1. Creating a token-level model (Token Embeddings)\n",
        "2. Create a character-level model (Character Embeddings)\n",
        "3. Combine (using layers.Concatenate) the outputs of 1 and 2\n",
        "4. Build a series of output layers on top of 3 similar to Figure 1 and section 4.2 of Neural Networks for Joint Sentence Classification in Medical Paper Abstracts\n",
        "5. Construct a model which takes token and character-level sequences as input and produces sequence label probabilities as output"
      ],
      "metadata": {
        "id": "7-TXK7v41I6A"
      }
    },
    {
      "cell_type": "markdown",
      "source": [
        "**Token Embeddings**"
      ],
      "metadata": {
        "id": "NxNo0odW2fUf"
      }
    },
    {
      "cell_type": "code",
      "source": [
        "import tensorflow_hub as hub\n",
        "\n",
        "Token_Embeddings = hub.KerasLayer(\"https://tfhub.dev/google/universal-sentence-encoder/4\", \n",
        "                                  input_shape = [], #input is some sort of strings\n",
        "                                  dtype=\"string\",\n",
        "                                  trainable=False)"
      ],
      "metadata": {
        "id": "BVr2fMOgzfHX"
      },
      "execution_count": 109,
      "outputs": []
    },
    {
      "cell_type": "code",
      "source": [
        "Inputs = tf.keras.layers.Input(shape = [], dtype=tf.string, name=\"Token_layer\")\n",
        "Token_layer = Token_Embeddings(Inputs)\n",
        "Token_output = Dense(300, activation = 'relu')(Token_layer)\n",
        "\n",
        "token_model = tf.keras.Model(Inputs, Token_output)\n",
        "\n",
        "token_model. summary()\n"
      ],
      "metadata": {
        "colab": {
          "base_uri": "https://localhost:8080/"
        },
        "id": "tnEEvv4Ez2QI",
        "outputId": "d7289b36-a18c-4c4b-c84a-cb27788be47e"
      },
      "execution_count": 110,
      "outputs": [
        {
          "output_type": "stream",
          "name": "stdout",
          "text": [
            "Model: \"model_2\"\n",
            "_________________________________________________________________\n",
            " Layer (type)                Output Shape              Param #   \n",
            "=================================================================\n",
            " Token_layer (InputLayer)    [(None,)]                 0         \n",
            "                                                                 \n",
            " keras_layer_1 (KerasLayer)  (None, 512)               256797824 \n",
            "                                                                 \n",
            " dense_4 (Dense)             (None, 300)               153900    \n",
            "                                                                 \n",
            "=================================================================\n",
            "Total params: 256,951,724\n",
            "Trainable params: 153,900\n",
            "Non-trainable params: 256,797,824\n",
            "_________________________________________________________________\n"
          ]
        }
      ]
    },
    {
      "cell_type": "markdown",
      "source": [
        "**Character Embeddings and concatenate with LSTM**"
      ],
      "metadata": {
        "id": "F9FJ35G52j4X"
      }
    },
    {
      "cell_type": "code",
      "source": [
        "input = tf.keras.layers.Input(shape = (1,), dtype=tf.string, name=\"Char_layer\")\n",
        "Token_layer = Char_vectorizer(input)\n",
        "Embed_Layer = Embedding_layer_3(Token_layer)\n",
        "char_output = tf.keras.layers.Bidirectional(tf.keras.layers.LSTM(24))(Embed_Layer) #Character_based token embedding is 50(bidirectional)\n",
        "# here we changes 25 to 24 because GPU works better with multiples of 8\n",
        "\n",
        "Char_model = tf.keras.Model(input,char_output)\n",
        "Char_model.summary()\n"
      ],
      "metadata": {
        "colab": {
          "base_uri": "https://localhost:8080/"
        },
        "id": "yHPoUZ4z2dwQ",
        "outputId": "8b0ff08e-e19f-4f8a-fdf2-6c20909d8712"
      },
      "execution_count": 111,
      "outputs": [
        {
          "output_type": "stream",
          "name": "stdout",
          "text": [
            "Model: \"model_3\"\n",
            "_________________________________________________________________\n",
            " Layer (type)                Output Shape              Param #   \n",
            "=================================================================\n",
            " Char_layer (InputLayer)     [(None, 1)]               0         \n",
            "                                                                 \n",
            " text_vectorization_1 (TextV  (None, 290)              0         \n",
            " ectorization)                                                   \n",
            "                                                                 \n",
            " embedding_2 (Embedding)     (None, 290, 25)           1750      \n",
            "                                                                 \n",
            " bidirectional (Bidirectiona  (None, 48)               9600      \n",
            " l)                                                              \n",
            "                                                                 \n",
            "=================================================================\n",
            "Total params: 11,350\n",
            "Trainable params: 11,350\n",
            "Non-trainable params: 0\n",
            "_________________________________________________________________\n"
          ]
        }
      ]
    },
    {
      "cell_type": "markdown",
      "source": [
        "**Hybrid Token Embedding**"
      ],
      "metadata": {
        "id": "SVIROtba5SC6"
      }
    },
    {
      "cell_type": "code",
      "source": [
        "concat_layer = tf.keras.layers.Concatenate()([token_model.output , Char_model.output])"
      ],
      "metadata": {
        "id": "g9T-wjbW5WcS"
      },
      "execution_count": 112,
      "outputs": []
    },
    {
      "cell_type": "markdown",
      "source": [
        "**Instead of the last bi-LSTM model, we are using a dense layer with 50% dropout**"
      ],
      "metadata": {
        "id": "2zblqnzi7j60"
      }
    },
    {
      "cell_type": "code",
      "source": [
        "dropout_layer_1 = tf.keras.layers.Dropout(0.5)(concat_layer)\n",
        "dense_combine_layer = tf.keras.layers.Dense(128, activation= 'relu')(dropout_layer_1)\n",
        "dropout_layer_2 = tf.keras.layers.Dropout(0.5)(dense_combine_layer)\n",
        "\n",
        "output_layer = tf.keras.layers.Dense(len(class_names), activation='softmax')(dropout_layer_2)\n",
        "\n",
        "model_4 = tf.keras.Model([token_model.input , Char_model.input], output_layer)\n",
        "model_4.summary()"
      ],
      "metadata": {
        "colab": {
          "base_uri": "https://localhost:8080/"
        },
        "id": "hAq6flRS7b3d",
        "outputId": "743f9e25-004f-42d0-db71-afa5ca0418a0"
      },
      "execution_count": 113,
      "outputs": [
        {
          "output_type": "stream",
          "name": "stdout",
          "text": [
            "Model: \"model_4\"\n",
            "__________________________________________________________________________________________________\n",
            " Layer (type)                   Output Shape         Param #     Connected to                     \n",
            "==================================================================================================\n",
            " Char_layer (InputLayer)        [(None, 1)]          0           []                               \n",
            "                                                                                                  \n",
            " Token_layer (InputLayer)       [(None,)]            0           []                               \n",
            "                                                                                                  \n",
            " text_vectorization_1 (TextVect  (None, 290)         0           ['Char_layer[0][0]']             \n",
            " orization)                                                                                       \n",
            "                                                                                                  \n",
            " keras_layer_1 (KerasLayer)     (None, 512)          256797824   ['Token_layer[0][0]']            \n",
            "                                                                                                  \n",
            " embedding_2 (Embedding)        (None, 290, 25)      1750        ['text_vectorization_1[1][0]']   \n",
            "                                                                                                  \n",
            " dense_4 (Dense)                (None, 300)          153900      ['keras_layer_1[0][0]']          \n",
            "                                                                                                  \n",
            " bidirectional (Bidirectional)  (None, 48)           9600        ['embedding_2[1][0]']            \n",
            "                                                                                                  \n",
            " concatenate (Concatenate)      (None, 348)          0           ['dense_4[0][0]',                \n",
            "                                                                  'bidirectional[0][0]']          \n",
            "                                                                                                  \n",
            " dropout (Dropout)              (None, 348)          0           ['concatenate[0][0]']            \n",
            "                                                                                                  \n",
            " dense_5 (Dense)                (None, 128)          44672       ['dropout[0][0]']                \n",
            "                                                                                                  \n",
            " dropout_1 (Dropout)            (None, 128)          0           ['dense_5[0][0]']                \n",
            "                                                                                                  \n",
            " dense_6 (Dense)                (None, 5)            645         ['dropout_1[0][0]']              \n",
            "                                                                                                  \n",
            "==================================================================================================\n",
            "Total params: 257,008,391\n",
            "Trainable params: 210,567\n",
            "Non-trainable params: 256,797,824\n",
            "__________________________________________________________________________________________________\n"
          ]
        }
      ]
    },
    {
      "cell_type": "code",
      "source": [
        "from tensorflow.keras.utils import plot_model\n",
        "plot_model(model_4, show_shapes=True)"
      ],
      "metadata": {
        "colab": {
          "base_uri": "https://localhost:8080/",
          "height": 976
        },
        "id": "qPEeDmwe-Ryq",
        "outputId": "73661bbe-cbde-488b-e945-8e0c3b590e72"
      },
      "execution_count": 114,
      "outputs": [
        {
          "output_type": "execute_result",
          "data": {
            "text/plain": [
              "<IPython.core.display.Image object>"
            ],
            "image/png": "[encoded data removed]"
          },
          "metadata": {},
          "execution_count": 114
        }
      ]
    },
    {
      "cell_type": "markdown",
      "source": [
        "# total\n"
      ],
      "metadata": {
        "id": "8_P8US8QtfIK"
      }
    },
    {
      "cell_type": "code",
      "source": [
        "249 - (17+11+12+23+8+14)"
      ],
      "metadata": {
        "id": "IVURUY-4thdH",
        "colab": {
          "base_uri": "https://localhost:8080/"
        },
        "outputId": "22246268-81bb-4078-f151-1d065b7872ce"
      },
      "execution_count": 115,
      "outputs": [
        {
          "output_type": "execute_result",
          "data": {
            "text/plain": [
              "164"
            ]
          },
          "metadata": {},
          "execution_count": 115
        }
      ]
    }
  ]
}